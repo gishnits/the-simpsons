{
 "cells": [
  {
   "attachments": {},
   "cell_type": "markdown",
   "metadata": {},
   "source": [
    "# The Simpsons - 29 Years of IMDB ratings & US Viewership\n",
    "\n",
    "The Simpsons are about to begin their 30th season which began back in 1989. In twenty-nine seasons, 639 episodes have aired. This is an analysis of the ratings and US viewership. For the ratings I dowloaded a number of files from IMDB, and cleaned the data accordingly. For US Viewership I pulled the data from Wikipedia. \n",
    "\n",
    "The analysis and process are below"
   ]
  },
  {
   "cell_type": "markdown",
   "metadata": {},
   "source": [
    "# Step 1 \n",
    "## Gather the data"
   ]
  },
  {
   "cell_type": "code",
   "execution_count": 1,
   "metadata": {},
   "outputs": [],
   "source": [
    "import pandas as pd\n",
    "import matplotlib.pyplot as plt\n",
    "%matplotlib inline\n",
    "plt.style.use('fivethirtyeight')"
   ]
  },
  {
   "cell_type": "code",
   "execution_count": 2,
   "metadata": {},
   "outputs": [],
   "source": [
    "# total of 5 files downloaded - different info in each.\n",
    "# tsv file containing titles of movies, tv, shows, etc\n",
    "title_df = pd.read_table('title_akas.tsv', low_memory=False)"
   ]
  },
  {
   "cell_type": "code",
   "execution_count": 3,
   "metadata": {},
   "outputs": [
    {
     "data": {
      "text/html": [
       "<div>\n",
       "<style scoped>\n",
       "    .dataframe tbody tr th:only-of-type {\n",
       "        vertical-align: middle;\n",
       "    }\n",
       "\n",
       "    .dataframe tbody tr th {\n",
       "        vertical-align: top;\n",
       "    }\n",
       "\n",
       "    .dataframe thead th {\n",
       "        text-align: right;\n",
       "    }\n",
       "</style>\n",
       "<table border=\"1\" class=\"dataframe\">\n",
       "  <thead>\n",
       "    <tr style=\"text-align: right;\">\n",
       "      <th></th>\n",
       "      <th>titleId</th>\n",
       "      <th>ordering</th>\n",
       "      <th>title</th>\n",
       "      <th>region</th>\n",
       "      <th>language</th>\n",
       "      <th>types</th>\n",
       "      <th>attributes</th>\n",
       "      <th>isOriginalTitle</th>\n",
       "    </tr>\n",
       "  </thead>\n",
       "  <tbody>\n",
       "    <tr>\n",
       "      <th>0</th>\n",
       "      <td>tt0000001</td>\n",
       "      <td>1</td>\n",
       "      <td>Carmencita - spanyol tánc</td>\n",
       "      <td>HU</td>\n",
       "      <td>\\N</td>\n",
       "      <td>imdbDisplay</td>\n",
       "      <td>\\N</td>\n",
       "      <td>0</td>\n",
       "    </tr>\n",
       "    <tr>\n",
       "      <th>1</th>\n",
       "      <td>tt0000001</td>\n",
       "      <td>2</td>\n",
       "      <td>Карменсита</td>\n",
       "      <td>RU</td>\n",
       "      <td>\\N</td>\n",
       "      <td>\\N</td>\n",
       "      <td>\\N</td>\n",
       "      <td>0</td>\n",
       "    </tr>\n",
       "    <tr>\n",
       "      <th>2</th>\n",
       "      <td>tt0000001</td>\n",
       "      <td>3</td>\n",
       "      <td>Carmencita</td>\n",
       "      <td>US</td>\n",
       "      <td>\\N</td>\n",
       "      <td>\\N</td>\n",
       "      <td>\\N</td>\n",
       "      <td>0</td>\n",
       "    </tr>\n",
       "    <tr>\n",
       "      <th>3</th>\n",
       "      <td>tt0000001</td>\n",
       "      <td>4</td>\n",
       "      <td>Carmencita</td>\n",
       "      <td>\\N</td>\n",
       "      <td>\\N</td>\n",
       "      <td>original</td>\n",
       "      <td>\\N</td>\n",
       "      <td>1</td>\n",
       "    </tr>\n",
       "    <tr>\n",
       "      <th>4</th>\n",
       "      <td>tt0000002</td>\n",
       "      <td>1</td>\n",
       "      <td>Le clown et ses chiens</td>\n",
       "      <td>\\N</td>\n",
       "      <td>\\N</td>\n",
       "      <td>original</td>\n",
       "      <td>\\N</td>\n",
       "      <td>1</td>\n",
       "    </tr>\n",
       "  </tbody>\n",
       "</table>\n",
       "</div>"
      ],
      "text/plain": [
       "     titleId  ordering                      title region language  \\\n",
       "0  tt0000001         1  Carmencita - spanyol tánc     HU       \\N   \n",
       "1  tt0000001         2                 Карменсита     RU       \\N   \n",
       "2  tt0000001         3                 Carmencita     US       \\N   \n",
       "3  tt0000001         4                 Carmencita     \\N       \\N   \n",
       "4  tt0000002         1     Le clown et ses chiens     \\N       \\N   \n",
       "\n",
       "         types attributes isOriginalTitle  \n",
       "0  imdbDisplay         \\N               0  \n",
       "1           \\N         \\N               0  \n",
       "2           \\N         \\N               0  \n",
       "3     original         \\N               1  \n",
       "4     original         \\N               1  "
      ]
     },
     "execution_count": 3,
     "metadata": {},
     "output_type": "execute_result"
    }
   ],
   "source": [
    "title_df.head()"
   ]
  },
  {
   "cell_type": "code",
   "execution_count": 4,
   "metadata": {},
   "outputs": [
    {
     "data": {
      "text/plain": [
       "titleId             0\n",
       "ordering            0\n",
       "title               0\n",
       "region             55\n",
       "language            0\n",
       "types               0\n",
       "attributes          0\n",
       "isOriginalTitle     0\n",
       "dtype: int64"
      ]
     },
     "execution_count": 4,
     "metadata": {},
     "output_type": "execute_result"
    }
   ],
   "source": [
    "# quick check of the data\n",
    "title_df.isnull().sum()"
   ]
  },
  {
   "cell_type": "code",
   "execution_count": 5,
   "metadata": {},
   "outputs": [
    {
     "data": {
      "text/html": [
       "<div>\n",
       "<style scoped>\n",
       "    .dataframe tbody tr th:only-of-type {\n",
       "        vertical-align: middle;\n",
       "    }\n",
       "\n",
       "    .dataframe tbody tr th {\n",
       "        vertical-align: top;\n",
       "    }\n",
       "\n",
       "    .dataframe thead th {\n",
       "        text-align: right;\n",
       "    }\n",
       "</style>\n",
       "<table border=\"1\" class=\"dataframe\">\n",
       "  <thead>\n",
       "    <tr style=\"text-align: right;\">\n",
       "      <th></th>\n",
       "      <th>titleId</th>\n",
       "      <th>ordering</th>\n",
       "      <th>title</th>\n",
       "      <th>region</th>\n",
       "      <th>language</th>\n",
       "      <th>types</th>\n",
       "      <th>attributes</th>\n",
       "      <th>isOriginalTitle</th>\n",
       "    </tr>\n",
       "  </thead>\n",
       "  <tbody>\n",
       "    <tr>\n",
       "      <th>584914</th>\n",
       "      <td>tt0096697</td>\n",
       "      <td>12</td>\n",
       "      <td>The Simpsons</td>\n",
       "      <td>US</td>\n",
       "      <td>\\N</td>\n",
       "      <td>\\N</td>\n",
       "      <td>\\N</td>\n",
       "      <td>0</td>\n",
       "    </tr>\n",
       "  </tbody>\n",
       "</table>\n",
       "</div>"
      ],
      "text/plain": [
       "          titleId  ordering         title region language types attributes  \\\n",
       "584914  tt0096697        12  The Simpsons     US       \\N    \\N         \\N   \n",
       "\n",
       "       isOriginalTitle  \n",
       "584914               0  "
      ]
     },
     "execution_count": 5,
     "metadata": {},
     "output_type": "execute_result"
    }
   ],
   "source": [
    "# nulls in the region not important\n",
    "# find \"The Simpsons\" parent title ID\n",
    "# select region 'US' and title 'The Simpsons'\n",
    "\n",
    "mask1 = title_df['region'] == 'US'\n",
    "mask2 = title_df['title'] == 'The Simpsons'\n",
    "\n",
    "simpson_titleid = title_df[mask1 & mask2]\n",
    "simpson_titleid"
   ]
  },
  {
   "cell_type": "code",
   "execution_count": 6,
   "metadata": {},
   "outputs": [],
   "source": [
    "# now that we have the titleid, we need the idividual episodes identifiers\n",
    "episode_df = pd.read_table('title_episode.tsv', low_memory=False)"
   ]
  },
  {
   "cell_type": "code",
   "execution_count": 7,
   "metadata": {},
   "outputs": [
    {
     "data": {
      "text/html": [
       "<div>\n",
       "<style scoped>\n",
       "    .dataframe tbody tr th:only-of-type {\n",
       "        vertical-align: middle;\n",
       "    }\n",
       "\n",
       "    .dataframe tbody tr th {\n",
       "        vertical-align: top;\n",
       "    }\n",
       "\n",
       "    .dataframe thead th {\n",
       "        text-align: right;\n",
       "    }\n",
       "</style>\n",
       "<table border=\"1\" class=\"dataframe\">\n",
       "  <thead>\n",
       "    <tr style=\"text-align: right;\">\n",
       "      <th></th>\n",
       "      <th>tconst</th>\n",
       "      <th>parentTconst</th>\n",
       "      <th>seasonNumber</th>\n",
       "      <th>episodeNumber</th>\n",
       "    </tr>\n",
       "  </thead>\n",
       "  <tbody>\n",
       "    <tr>\n",
       "      <th>0</th>\n",
       "      <td>tt0033908</td>\n",
       "      <td>tt8335206</td>\n",
       "      <td>\\N</td>\n",
       "      <td>\\N</td>\n",
       "    </tr>\n",
       "    <tr>\n",
       "      <th>1</th>\n",
       "      <td>tt0033952</td>\n",
       "      <td>tt8335206</td>\n",
       "      <td>\\N</td>\n",
       "      <td>\\N</td>\n",
       "    </tr>\n",
       "    <tr>\n",
       "      <th>2</th>\n",
       "      <td>tt0034547</td>\n",
       "      <td>tt8335206</td>\n",
       "      <td>\\N</td>\n",
       "      <td>\\N</td>\n",
       "    </tr>\n",
       "    <tr>\n",
       "      <th>3</th>\n",
       "      <td>tt0034657</td>\n",
       "      <td>tt8335206</td>\n",
       "      <td>\\N</td>\n",
       "      <td>\\N</td>\n",
       "    </tr>\n",
       "    <tr>\n",
       "      <th>4</th>\n",
       "      <td>tt0034731</td>\n",
       "      <td>tt8335206</td>\n",
       "      <td>\\N</td>\n",
       "      <td>\\N</td>\n",
       "    </tr>\n",
       "  </tbody>\n",
       "</table>\n",
       "</div>"
      ],
      "text/plain": [
       "      tconst parentTconst seasonNumber episodeNumber\n",
       "0  tt0033908    tt8335206           \\N            \\N\n",
       "1  tt0033952    tt8335206           \\N            \\N\n",
       "2  tt0034547    tt8335206           \\N            \\N\n",
       "3  tt0034657    tt8335206           \\N            \\N\n",
       "4  tt0034731    tt8335206           \\N            \\N"
      ]
     },
     "execution_count": 7,
     "metadata": {},
     "output_type": "execute_result"
    }
   ],
   "source": [
    "episode_df.head()"
   ]
  },
  {
   "cell_type": "code",
   "execution_count": 8,
   "metadata": {},
   "outputs": [
    {
     "data": {
      "text/plain": [
       "tconst           0\n",
       "parentTconst     0\n",
       "seasonNumber     0\n",
       "episodeNumber    0\n",
       "dtype: int64"
      ]
     },
     "execution_count": 8,
     "metadata": {},
     "output_type": "execute_result"
    }
   ],
   "source": [
    "# quick check of the data\n",
    "episode_df.isnull().sum()"
   ]
  },
  {
   "cell_type": "code",
   "execution_count": 9,
   "metadata": {},
   "outputs": [],
   "source": [
    "# selecting the individual epiosdes\n",
    "simpsons_episodes_df = episode_df[episode_df['parentTconst']== 'tt0096697']"
   ]
  },
  {
   "cell_type": "code",
   "execution_count": 10,
   "metadata": {},
   "outputs": [
    {
     "data": {
      "text/html": [
       "<div>\n",
       "<style scoped>\n",
       "    .dataframe tbody tr th:only-of-type {\n",
       "        vertical-align: middle;\n",
       "    }\n",
       "\n",
       "    .dataframe tbody tr th {\n",
       "        vertical-align: top;\n",
       "    }\n",
       "\n",
       "    .dataframe thead th {\n",
       "        text-align: right;\n",
       "    }\n",
       "</style>\n",
       "<table border=\"1\" class=\"dataframe\">\n",
       "  <thead>\n",
       "    <tr style=\"text-align: right;\">\n",
       "      <th></th>\n",
       "      <th>tconst</th>\n",
       "      <th>parentTconst</th>\n",
       "      <th>seasonNumber</th>\n",
       "      <th>episodeNumber</th>\n",
       "    </tr>\n",
       "  </thead>\n",
       "  <tbody>\n",
       "    <tr>\n",
       "      <th>3026</th>\n",
       "      <td>tt0177842</td>\n",
       "      <td>tt0096697</td>\n",
       "      <td>7</td>\n",
       "      <td>6</td>\n",
       "    </tr>\n",
       "    <tr>\n",
       "      <th>6618</th>\n",
       "      <td>tt0348034</td>\n",
       "      <td>tt0096697</td>\n",
       "      <td>1</td>\n",
       "      <td>1</td>\n",
       "    </tr>\n",
       "    <tr>\n",
       "      <th>208653</th>\n",
       "      <td>tt0701040</td>\n",
       "      <td>tt0096697</td>\n",
       "      <td>5</td>\n",
       "      <td>10</td>\n",
       "    </tr>\n",
       "    <tr>\n",
       "      <th>208654</th>\n",
       "      <td>tt0701041</td>\n",
       "      <td>tt0096697</td>\n",
       "      <td>6</td>\n",
       "      <td>22</td>\n",
       "    </tr>\n",
       "    <tr>\n",
       "      <th>208655</th>\n",
       "      <td>tt0701042</td>\n",
       "      <td>tt0096697</td>\n",
       "      <td>14</td>\n",
       "      <td>16</td>\n",
       "    </tr>\n",
       "  </tbody>\n",
       "</table>\n",
       "</div>"
      ],
      "text/plain": [
       "           tconst parentTconst seasonNumber episodeNumber\n",
       "3026    tt0177842    tt0096697            7             6\n",
       "6618    tt0348034    tt0096697            1             1\n",
       "208653  tt0701040    tt0096697            5            10\n",
       "208654  tt0701041    tt0096697            6            22\n",
       "208655  tt0701042    tt0096697           14            16"
      ]
     },
     "execution_count": 10,
     "metadata": {},
     "output_type": "execute_result"
    }
   ],
   "source": [
    "simpsons_episodes_df.head()"
   ]
  },
  {
   "cell_type": "code",
   "execution_count": 11,
   "metadata": {},
   "outputs": [
    {
     "data": {
      "text/html": [
       "<div>\n",
       "<style scoped>\n",
       "    .dataframe tbody tr th:only-of-type {\n",
       "        vertical-align: middle;\n",
       "    }\n",
       "\n",
       "    .dataframe tbody tr th {\n",
       "        vertical-align: top;\n",
       "    }\n",
       "\n",
       "    .dataframe thead th {\n",
       "        text-align: right;\n",
       "    }\n",
       "</style>\n",
       "<table border=\"1\" class=\"dataframe\">\n",
       "  <thead>\n",
       "    <tr style=\"text-align: right;\">\n",
       "      <th></th>\n",
       "      <th>tconst</th>\n",
       "      <th>parentTconst</th>\n",
       "      <th>seasonNumber</th>\n",
       "      <th>episodeNumber</th>\n",
       "    </tr>\n",
       "  </thead>\n",
       "  <tbody>\n",
       "    <tr>\n",
       "      <th>3480819</th>\n",
       "      <td>tt8733702</td>\n",
       "      <td>tt0096697</td>\n",
       "      <td>\\N</td>\n",
       "      <td>\\N</td>\n",
       "    </tr>\n",
       "    <tr>\n",
       "      <th>3480821</th>\n",
       "      <td>tt8733706</td>\n",
       "      <td>tt0096697</td>\n",
       "      <td>\\N</td>\n",
       "      <td>\\N</td>\n",
       "    </tr>\n",
       "    <tr>\n",
       "      <th>3480822</th>\n",
       "      <td>tt8733708</td>\n",
       "      <td>tt0096697</td>\n",
       "      <td>\\N</td>\n",
       "      <td>\\N</td>\n",
       "    </tr>\n",
       "    <tr>\n",
       "      <th>3480824</th>\n",
       "      <td>tt8733716</td>\n",
       "      <td>tt0096697</td>\n",
       "      <td>\\N</td>\n",
       "      <td>\\N</td>\n",
       "    </tr>\n",
       "    <tr>\n",
       "      <th>3523417</th>\n",
       "      <td>tt8845304</td>\n",
       "      <td>tt0096697</td>\n",
       "      <td>\\N</td>\n",
       "      <td>\\N</td>\n",
       "    </tr>\n",
       "  </tbody>\n",
       "</table>\n",
       "</div>"
      ],
      "text/plain": [
       "            tconst parentTconst seasonNumber episodeNumber\n",
       "3480819  tt8733702    tt0096697           \\N            \\N\n",
       "3480821  tt8733706    tt0096697           \\N            \\N\n",
       "3480822  tt8733708    tt0096697           \\N            \\N\n",
       "3480824  tt8733716    tt0096697           \\N            \\N\n",
       "3523417  tt8845304    tt0096697           \\N            \\N"
      ]
     },
     "execution_count": 11,
     "metadata": {},
     "output_type": "execute_result"
    }
   ],
   "source": [
    "simpsons_episodes_df.tail()"
   ]
  },
  {
   "cell_type": "code",
   "execution_count": 12,
   "metadata": {
    "scrolled": false
   },
   "outputs": [
    {
     "data": {
      "text/plain": [
       "6     25\n",
       "7     25\n",
       "8     25\n",
       "9     25\n",
       "3     24\n",
       "21    23\n",
       "10    23\n",
       "28    22\n",
       "17    22\n",
       "2     22\n",
       "5     22\n",
       "23    22\n",
       "4     22\n",
       "22    22\n",
       "25    22\n",
       "15    22\n",
       "26    22\n",
       "11    22\n",
       "27    22\n",
       "13    22\n",
       "18    22\n",
       "24    22\n",
       "14    22\n",
       "12    21\n",
       "20    21\n",
       "16    21\n",
       "29    21\n",
       "19    20\n",
       "\\N    19\n",
       "1     13\n",
       "30    10\n",
       "Name: seasonNumber, dtype: int64"
      ]
     },
     "execution_count": 12,
     "metadata": {},
     "output_type": "execute_result"
    }
   ],
   "source": [
    "simpsons_episodes_df['seasonNumber'].value_counts()"
   ]
  },
  {
   "cell_type": "code",
   "execution_count": 13,
   "metadata": {},
   "outputs": [],
   "source": [
    "# all seasons are included\n",
    "# remove the \\N from the dataset\n",
    "simps_df = simpsons_episodes_df[simpsons_episodes_df.seasonNumber != '\\\\N']"
   ]
  },
  {
   "cell_type": "code",
   "execution_count": 14,
   "metadata": {
    "scrolled": false
   },
   "outputs": [
    {
     "data": {
      "text/plain": [
       "9     25\n",
       "7     25\n",
       "8     25\n",
       "6     25\n",
       "3     24\n",
       "10    23\n",
       "21    23\n",
       "28    22\n",
       "18    22\n",
       "26    22\n",
       "17    22\n",
       "2     22\n",
       "13    22\n",
       "5     22\n",
       "27    22\n",
       "23    22\n",
       "4     22\n",
       "24    22\n",
       "14    22\n",
       "22    22\n",
       "25    22\n",
       "11    22\n",
       "15    22\n",
       "16    21\n",
       "29    21\n",
       "20    21\n",
       "12    21\n",
       "19    20\n",
       "1     13\n",
       "30    10\n",
       "Name: seasonNumber, dtype: int64"
      ]
     },
     "execution_count": 14,
     "metadata": {},
     "output_type": "execute_result"
    }
   ],
   "source": [
    "simps_df['seasonNumber'].value_counts()"
   ]
  },
  {
   "cell_type": "code",
   "execution_count": 15,
   "metadata": {},
   "outputs": [
    {
     "data": {
      "text/plain": [
       "(649, 4)"
      ]
     },
     "execution_count": 15,
     "metadata": {},
     "output_type": "execute_result"
    }
   ],
   "source": [
    "simps_df.shape"
   ]
  },
  {
   "cell_type": "code",
   "execution_count": 16,
   "metadata": {},
   "outputs": [],
   "source": [
    "# research shows only 639 episodes and 29 seasons\n",
    "# need to remove 30 and 10 from the dataset\n",
    "# imdb database included first 10 episodes for the upcoming season as placeholders\n",
    "final_simpsons_episodes_df = simps_df[simps_df.seasonNumber != '30']"
   ]
  },
  {
   "cell_type": "code",
   "execution_count": 17,
   "metadata": {},
   "outputs": [
    {
     "data": {
      "text/plain": [
       "tt0701126    1\n",
       "tt1206071    1\n",
       "tt4480370    1\n",
       "tt0701165    1\n",
       "tt0779671    1\n",
       "Name: tconst, dtype: int64"
      ]
     },
     "execution_count": 17,
     "metadata": {},
     "output_type": "execute_result"
    }
   ],
   "source": [
    "# check individual episodes - there should only be 1 in the value counts\n",
    "final_simpsons_episodes_df['tconst'].value_counts().head()"
   ]
  },
  {
   "cell_type": "code",
   "execution_count": 18,
   "metadata": {
    "scrolled": true
   },
   "outputs": [
    {
     "data": {
      "text/plain": [
       "6     25\n",
       "9     25\n",
       "7     25\n",
       "8     25\n",
       "3     24\n",
       "10    23\n",
       "21    23\n",
       "28    22\n",
       "26    22\n",
       "17    22\n",
       "2     22\n",
       "13    22\n",
       "5     22\n",
       "27    22\n",
       "18    22\n",
       "23    22\n",
       "4     22\n",
       "24    22\n",
       "14    22\n",
       "22    22\n",
       "25    22\n",
       "11    22\n",
       "15    22\n",
       "16    21\n",
       "29    21\n",
       "20    21\n",
       "12    21\n",
       "19    20\n",
       "1     13\n",
       "Name: seasonNumber, dtype: int64"
      ]
     },
     "execution_count": 18,
     "metadata": {},
     "output_type": "execute_result"
    }
   ],
   "source": [
    "final_simpsons_episodes_df['seasonNumber'].value_counts()"
   ]
  },
  {
   "cell_type": "code",
   "execution_count": 19,
   "metadata": {},
   "outputs": [
    {
     "data": {
      "text/plain": [
       "(639, 4)"
      ]
     },
     "execution_count": 19,
     "metadata": {},
     "output_type": "execute_result"
    }
   ],
   "source": [
    "# check final count of 639 episodes\n",
    "final_simpsons_episodes_df.shape"
   ]
  },
  {
   "cell_type": "code",
   "execution_count": 20,
   "metadata": {},
   "outputs": [
    {
     "data": {
      "text/html": [
       "<div>\n",
       "<style scoped>\n",
       "    .dataframe tbody tr th:only-of-type {\n",
       "        vertical-align: middle;\n",
       "    }\n",
       "\n",
       "    .dataframe tbody tr th {\n",
       "        vertical-align: top;\n",
       "    }\n",
       "\n",
       "    .dataframe thead th {\n",
       "        text-align: right;\n",
       "    }\n",
       "</style>\n",
       "<table border=\"1\" class=\"dataframe\">\n",
       "  <thead>\n",
       "    <tr style=\"text-align: right;\">\n",
       "      <th></th>\n",
       "      <th>tconst</th>\n",
       "      <th>parentTconst</th>\n",
       "      <th>seasonNumber</th>\n",
       "      <th>episodeNumber</th>\n",
       "    </tr>\n",
       "  </thead>\n",
       "  <tbody>\n",
       "    <tr>\n",
       "      <th>3026</th>\n",
       "      <td>tt0177842</td>\n",
       "      <td>tt0096697</td>\n",
       "      <td>7</td>\n",
       "      <td>6</td>\n",
       "    </tr>\n",
       "    <tr>\n",
       "      <th>6618</th>\n",
       "      <td>tt0348034</td>\n",
       "      <td>tt0096697</td>\n",
       "      <td>1</td>\n",
       "      <td>1</td>\n",
       "    </tr>\n",
       "    <tr>\n",
       "      <th>208653</th>\n",
       "      <td>tt0701040</td>\n",
       "      <td>tt0096697</td>\n",
       "      <td>5</td>\n",
       "      <td>10</td>\n",
       "    </tr>\n",
       "    <tr>\n",
       "      <th>208654</th>\n",
       "      <td>tt0701041</td>\n",
       "      <td>tt0096697</td>\n",
       "      <td>6</td>\n",
       "      <td>22</td>\n",
       "    </tr>\n",
       "    <tr>\n",
       "      <th>208655</th>\n",
       "      <td>tt0701042</td>\n",
       "      <td>tt0096697</td>\n",
       "      <td>14</td>\n",
       "      <td>16</td>\n",
       "    </tr>\n",
       "  </tbody>\n",
       "</table>\n",
       "</div>"
      ],
      "text/plain": [
       "           tconst parentTconst seasonNumber episodeNumber\n",
       "3026    tt0177842    tt0096697            7             6\n",
       "6618    tt0348034    tt0096697            1             1\n",
       "208653  tt0701040    tt0096697            5            10\n",
       "208654  tt0701041    tt0096697            6            22\n",
       "208655  tt0701042    tt0096697           14            16"
      ]
     },
     "execution_count": 20,
     "metadata": {},
     "output_type": "execute_result"
    }
   ],
   "source": [
    "final_simpsons_episodes_df.head()"
   ]
  },
  {
   "cell_type": "code",
   "execution_count": 21,
   "metadata": {},
   "outputs": [],
   "source": [
    "# have the episodes now getting the ratings for each episode\n",
    "ratings_df = pd.read_table('title_ratings.tsv', low_memory=False)"
   ]
  },
  {
   "cell_type": "code",
   "execution_count": 22,
   "metadata": {},
   "outputs": [
    {
     "data": {
      "text/html": [
       "<div>\n",
       "<style scoped>\n",
       "    .dataframe tbody tr th:only-of-type {\n",
       "        vertical-align: middle;\n",
       "    }\n",
       "\n",
       "    .dataframe tbody tr th {\n",
       "        vertical-align: top;\n",
       "    }\n",
       "\n",
       "    .dataframe thead th {\n",
       "        text-align: right;\n",
       "    }\n",
       "</style>\n",
       "<table border=\"1\" class=\"dataframe\">\n",
       "  <thead>\n",
       "    <tr style=\"text-align: right;\">\n",
       "      <th></th>\n",
       "      <th>tconst</th>\n",
       "      <th>averageRating</th>\n",
       "      <th>numVotes</th>\n",
       "    </tr>\n",
       "  </thead>\n",
       "  <tbody>\n",
       "    <tr>\n",
       "      <th>0</th>\n",
       "      <td>tt0000001</td>\n",
       "      <td>5.8</td>\n",
       "      <td>1402</td>\n",
       "    </tr>\n",
       "    <tr>\n",
       "      <th>1</th>\n",
       "      <td>tt0000002</td>\n",
       "      <td>6.5</td>\n",
       "      <td>163</td>\n",
       "    </tr>\n",
       "    <tr>\n",
       "      <th>2</th>\n",
       "      <td>tt0000003</td>\n",
       "      <td>6.6</td>\n",
       "      <td>991</td>\n",
       "    </tr>\n",
       "    <tr>\n",
       "      <th>3</th>\n",
       "      <td>tt0000004</td>\n",
       "      <td>6.4</td>\n",
       "      <td>98</td>\n",
       "    </tr>\n",
       "    <tr>\n",
       "      <th>4</th>\n",
       "      <td>tt0000005</td>\n",
       "      <td>6.2</td>\n",
       "      <td>1691</td>\n",
       "    </tr>\n",
       "  </tbody>\n",
       "</table>\n",
       "</div>"
      ],
      "text/plain": [
       "      tconst  averageRating  numVotes\n",
       "0  tt0000001            5.8      1402\n",
       "1  tt0000002            6.5       163\n",
       "2  tt0000003            6.6       991\n",
       "3  tt0000004            6.4        98\n",
       "4  tt0000005            6.2      1691"
      ]
     },
     "execution_count": 22,
     "metadata": {},
     "output_type": "execute_result"
    }
   ],
   "source": [
    "ratings_df.head()"
   ]
  },
  {
   "cell_type": "code",
   "execution_count": 23,
   "metadata": {},
   "outputs": [],
   "source": [
    "# combine the episodes df with the ratings df\n",
    "# merged on the tconst, so no need to remove the other identifiers in the ratings_df\n",
    "simpsons_ratings_df = final_simpsons_episodes_df.merge(ratings_df, on='tconst', how='inner')"
   ]
  },
  {
   "cell_type": "code",
   "execution_count": 24,
   "metadata": {},
   "outputs": [
    {
     "data": {
      "text/html": [
       "<div>\n",
       "<style scoped>\n",
       "    .dataframe tbody tr th:only-of-type {\n",
       "        vertical-align: middle;\n",
       "    }\n",
       "\n",
       "    .dataframe tbody tr th {\n",
       "        vertical-align: top;\n",
       "    }\n",
       "\n",
       "    .dataframe thead th {\n",
       "        text-align: right;\n",
       "    }\n",
       "</style>\n",
       "<table border=\"1\" class=\"dataframe\">\n",
       "  <thead>\n",
       "    <tr style=\"text-align: right;\">\n",
       "      <th></th>\n",
       "      <th>tconst</th>\n",
       "      <th>parentTconst</th>\n",
       "      <th>seasonNumber</th>\n",
       "      <th>episodeNumber</th>\n",
       "      <th>averageRating</th>\n",
       "      <th>numVotes</th>\n",
       "    </tr>\n",
       "  </thead>\n",
       "  <tbody>\n",
       "    <tr>\n",
       "      <th>0</th>\n",
       "      <td>tt0177842</td>\n",
       "      <td>tt0096697</td>\n",
       "      <td>7</td>\n",
       "      <td>6</td>\n",
       "      <td>8.5</td>\n",
       "      <td>1736</td>\n",
       "    </tr>\n",
       "    <tr>\n",
       "      <th>1</th>\n",
       "      <td>tt0348034</td>\n",
       "      <td>tt0096697</td>\n",
       "      <td>1</td>\n",
       "      <td>1</td>\n",
       "      <td>8.2</td>\n",
       "      <td>4511</td>\n",
       "    </tr>\n",
       "    <tr>\n",
       "      <th>2</th>\n",
       "      <td>tt0701040</td>\n",
       "      <td>tt0096697</td>\n",
       "      <td>5</td>\n",
       "      <td>10</td>\n",
       "      <td>8.6</td>\n",
       "      <td>1737</td>\n",
       "    </tr>\n",
       "    <tr>\n",
       "      <th>3</th>\n",
       "      <td>tt0701041</td>\n",
       "      <td>tt0096697</td>\n",
       "      <td>6</td>\n",
       "      <td>22</td>\n",
       "      <td>8.3</td>\n",
       "      <td>1511</td>\n",
       "    </tr>\n",
       "    <tr>\n",
       "      <th>4</th>\n",
       "      <td>tt0701042</td>\n",
       "      <td>tt0096697</td>\n",
       "      <td>14</td>\n",
       "      <td>16</td>\n",
       "      <td>7.2</td>\n",
       "      <td>773</td>\n",
       "    </tr>\n",
       "  </tbody>\n",
       "</table>\n",
       "</div>"
      ],
      "text/plain": [
       "      tconst parentTconst seasonNumber episodeNumber  averageRating  numVotes\n",
       "0  tt0177842    tt0096697            7             6            8.5      1736\n",
       "1  tt0348034    tt0096697            1             1            8.2      4511\n",
       "2  tt0701040    tt0096697            5            10            8.6      1737\n",
       "3  tt0701041    tt0096697            6            22            8.3      1511\n",
       "4  tt0701042    tt0096697           14            16            7.2       773"
      ]
     },
     "execution_count": 24,
     "metadata": {},
     "output_type": "execute_result"
    }
   ],
   "source": [
    "simpsons_ratings_df.head()"
   ]
  },
  {
   "cell_type": "code",
   "execution_count": 25,
   "metadata": {},
   "outputs": [],
   "source": [
    "# drop columns not needed for the analysis\n",
    "simpsons_ratings_df = simpsons_ratings_df[['seasonNumber', 'episodeNumber', 'averageRating', 'numVotes']]"
   ]
  },
  {
   "cell_type": "code",
   "execution_count": 26,
   "metadata": {},
   "outputs": [
    {
     "data": {
      "text/html": [
       "<div>\n",
       "<style scoped>\n",
       "    .dataframe tbody tr th:only-of-type {\n",
       "        vertical-align: middle;\n",
       "    }\n",
       "\n",
       "    .dataframe tbody tr th {\n",
       "        vertical-align: top;\n",
       "    }\n",
       "\n",
       "    .dataframe thead th {\n",
       "        text-align: right;\n",
       "    }\n",
       "</style>\n",
       "<table border=\"1\" class=\"dataframe\">\n",
       "  <thead>\n",
       "    <tr style=\"text-align: right;\">\n",
       "      <th></th>\n",
       "      <th>seasonNumber</th>\n",
       "      <th>episodeNumber</th>\n",
       "      <th>averageRating</th>\n",
       "      <th>numVotes</th>\n",
       "    </tr>\n",
       "  </thead>\n",
       "  <tbody>\n",
       "    <tr>\n",
       "      <th>0</th>\n",
       "      <td>7</td>\n",
       "      <td>6</td>\n",
       "      <td>8.5</td>\n",
       "      <td>1736</td>\n",
       "    </tr>\n",
       "    <tr>\n",
       "      <th>1</th>\n",
       "      <td>1</td>\n",
       "      <td>1</td>\n",
       "      <td>8.2</td>\n",
       "      <td>4511</td>\n",
       "    </tr>\n",
       "    <tr>\n",
       "      <th>2</th>\n",
       "      <td>5</td>\n",
       "      <td>10</td>\n",
       "      <td>8.6</td>\n",
       "      <td>1737</td>\n",
       "    </tr>\n",
       "    <tr>\n",
       "      <th>3</th>\n",
       "      <td>6</td>\n",
       "      <td>22</td>\n",
       "      <td>8.3</td>\n",
       "      <td>1511</td>\n",
       "    </tr>\n",
       "    <tr>\n",
       "      <th>4</th>\n",
       "      <td>14</td>\n",
       "      <td>16</td>\n",
       "      <td>7.2</td>\n",
       "      <td>773</td>\n",
       "    </tr>\n",
       "  </tbody>\n",
       "</table>\n",
       "</div>"
      ],
      "text/plain": [
       "  seasonNumber episodeNumber  averageRating  numVotes\n",
       "0            7             6            8.5      1736\n",
       "1            1             1            8.2      4511\n",
       "2            5            10            8.6      1737\n",
       "3            6            22            8.3      1511\n",
       "4           14            16            7.2       773"
      ]
     },
     "execution_count": 26,
     "metadata": {},
     "output_type": "execute_result"
    }
   ],
   "source": [
    "simpsons_ratings_df.head()"
   ]
  },
  {
   "cell_type": "code",
   "execution_count": 27,
   "metadata": {},
   "outputs": [],
   "source": [
    "# rename the columns\n",
    "simpsons_ratings_df.columns = ['season', 'episode', 'avg_rating', 'num_votes']"
   ]
  },
  {
   "cell_type": "code",
   "execution_count": 28,
   "metadata": {},
   "outputs": [
    {
     "data": {
      "text/html": [
       "<div>\n",
       "<style scoped>\n",
       "    .dataframe tbody tr th:only-of-type {\n",
       "        vertical-align: middle;\n",
       "    }\n",
       "\n",
       "    .dataframe tbody tr th {\n",
       "        vertical-align: top;\n",
       "    }\n",
       "\n",
       "    .dataframe thead th {\n",
       "        text-align: right;\n",
       "    }\n",
       "</style>\n",
       "<table border=\"1\" class=\"dataframe\">\n",
       "  <thead>\n",
       "    <tr style=\"text-align: right;\">\n",
       "      <th></th>\n",
       "      <th>season</th>\n",
       "      <th>episode</th>\n",
       "      <th>avg_rating</th>\n",
       "      <th>num_votes</th>\n",
       "    </tr>\n",
       "  </thead>\n",
       "  <tbody>\n",
       "    <tr>\n",
       "      <th>0</th>\n",
       "      <td>7</td>\n",
       "      <td>6</td>\n",
       "      <td>8.5</td>\n",
       "      <td>1736</td>\n",
       "    </tr>\n",
       "    <tr>\n",
       "      <th>1</th>\n",
       "      <td>1</td>\n",
       "      <td>1</td>\n",
       "      <td>8.2</td>\n",
       "      <td>4511</td>\n",
       "    </tr>\n",
       "    <tr>\n",
       "      <th>2</th>\n",
       "      <td>5</td>\n",
       "      <td>10</td>\n",
       "      <td>8.6</td>\n",
       "      <td>1737</td>\n",
       "    </tr>\n",
       "    <tr>\n",
       "      <th>3</th>\n",
       "      <td>6</td>\n",
       "      <td>22</td>\n",
       "      <td>8.3</td>\n",
       "      <td>1511</td>\n",
       "    </tr>\n",
       "    <tr>\n",
       "      <th>4</th>\n",
       "      <td>14</td>\n",
       "      <td>16</td>\n",
       "      <td>7.2</td>\n",
       "      <td>773</td>\n",
       "    </tr>\n",
       "  </tbody>\n",
       "</table>\n",
       "</div>"
      ],
      "text/plain": [
       "  season episode  avg_rating  num_votes\n",
       "0      7       6         8.5       1736\n",
       "1      1       1         8.2       4511\n",
       "2      5      10         8.6       1737\n",
       "3      6      22         8.3       1511\n",
       "4     14      16         7.2        773"
      ]
     },
     "execution_count": 28,
     "metadata": {},
     "output_type": "execute_result"
    }
   ],
   "source": [
    "simpsons_ratings_df.head()"
   ]
  },
  {
   "cell_type": "code",
   "execution_count": 29,
   "metadata": {},
   "outputs": [
    {
     "data": {
      "text/plain": [
       "season         object\n",
       "episode        object\n",
       "avg_rating    float64\n",
       "num_votes       int64\n",
       "dtype: object"
      ]
     },
     "execution_count": 29,
     "metadata": {},
     "output_type": "execute_result"
    }
   ],
   "source": [
    "# check the data types\n",
    "simpsons_ratings_df.dtypes"
   ]
  },
  {
   "cell_type": "code",
   "execution_count": 30,
   "metadata": {},
   "outputs": [],
   "source": [
    "# change the data types\n",
    "simpsons_ratings_df['season'] = simpsons_ratings_df['season'].astype(int)\n",
    "simpsons_ratings_df['episode'] = simpsons_ratings_df['episode'].astype(int)\n",
    "simpsons_ratings_df['avg_rating'] = simpsons_ratings_df['avg_rating'].astype(float)"
   ]
  },
  {
   "cell_type": "code",
   "execution_count": 31,
   "metadata": {},
   "outputs": [
    {
     "data": {
      "text/plain": [
       "season          int64\n",
       "episode         int64\n",
       "avg_rating    float64\n",
       "num_votes       int64\n",
       "dtype: object"
      ]
     },
     "execution_count": 31,
     "metadata": {},
     "output_type": "execute_result"
    }
   ],
   "source": [
    "simpsons_ratings_df.dtypes"
   ]
  },
  {
   "cell_type": "code",
   "execution_count": 32,
   "metadata": {},
   "outputs": [],
   "source": [
    "# order the df by season and episode\n",
    "final_simpsons_ratings_df = simpsons_ratings_df.sort_values(['season', 'episode']).reset_index(drop=True)"
   ]
  },
  {
   "cell_type": "code",
   "execution_count": 33,
   "metadata": {},
   "outputs": [
    {
     "data": {
      "text/html": [
       "<div>\n",
       "<style scoped>\n",
       "    .dataframe tbody tr th:only-of-type {\n",
       "        vertical-align: middle;\n",
       "    }\n",
       "\n",
       "    .dataframe tbody tr th {\n",
       "        vertical-align: top;\n",
       "    }\n",
       "\n",
       "    .dataframe thead th {\n",
       "        text-align: right;\n",
       "    }\n",
       "</style>\n",
       "<table border=\"1\" class=\"dataframe\">\n",
       "  <thead>\n",
       "    <tr style=\"text-align: right;\">\n",
       "      <th></th>\n",
       "      <th>season</th>\n",
       "      <th>episode</th>\n",
       "      <th>avg_rating</th>\n",
       "      <th>num_votes</th>\n",
       "    </tr>\n",
       "  </thead>\n",
       "  <tbody>\n",
       "    <tr>\n",
       "      <th>0</th>\n",
       "      <td>1</td>\n",
       "      <td>1</td>\n",
       "      <td>8.2</td>\n",
       "      <td>4511</td>\n",
       "    </tr>\n",
       "    <tr>\n",
       "      <th>1</th>\n",
       "      <td>1</td>\n",
       "      <td>2</td>\n",
       "      <td>7.8</td>\n",
       "      <td>2633</td>\n",
       "    </tr>\n",
       "    <tr>\n",
       "      <th>2</th>\n",
       "      <td>1</td>\n",
       "      <td>3</td>\n",
       "      <td>7.5</td>\n",
       "      <td>2304</td>\n",
       "    </tr>\n",
       "    <tr>\n",
       "      <th>3</th>\n",
       "      <td>1</td>\n",
       "      <td>4</td>\n",
       "      <td>7.8</td>\n",
       "      <td>2274</td>\n",
       "    </tr>\n",
       "    <tr>\n",
       "      <th>4</th>\n",
       "      <td>1</td>\n",
       "      <td>5</td>\n",
       "      <td>8.1</td>\n",
       "      <td>2326</td>\n",
       "    </tr>\n",
       "  </tbody>\n",
       "</table>\n",
       "</div>"
      ],
      "text/plain": [
       "   season  episode  avg_rating  num_votes\n",
       "0       1        1         8.2       4511\n",
       "1       1        2         7.8       2633\n",
       "2       1        3         7.5       2304\n",
       "3       1        4         7.8       2274\n",
       "4       1        5         8.1       2326"
      ]
     },
     "execution_count": 33,
     "metadata": {},
     "output_type": "execute_result"
    }
   ],
   "source": [
    "final_simpsons_ratings_df.head()"
   ]
  },
  {
   "cell_type": "code",
   "execution_count": 34,
   "metadata": {},
   "outputs": [
    {
     "data": {
      "text/html": [
       "<div>\n",
       "<style scoped>\n",
       "    .dataframe tbody tr th:only-of-type {\n",
       "        vertical-align: middle;\n",
       "    }\n",
       "\n",
       "    .dataframe tbody tr th {\n",
       "        vertical-align: top;\n",
       "    }\n",
       "\n",
       "    .dataframe thead th {\n",
       "        text-align: right;\n",
       "    }\n",
       "</style>\n",
       "<table border=\"1\" class=\"dataframe\">\n",
       "  <thead>\n",
       "    <tr style=\"text-align: right;\">\n",
       "      <th></th>\n",
       "      <th>season</th>\n",
       "      <th>episode</th>\n",
       "      <th>avg_rating</th>\n",
       "      <th>num_votes</th>\n",
       "    </tr>\n",
       "  </thead>\n",
       "  <tbody>\n",
       "    <tr>\n",
       "      <th>634</th>\n",
       "      <td>29</td>\n",
       "      <td>17</td>\n",
       "      <td>7.1</td>\n",
       "      <td>312</td>\n",
       "    </tr>\n",
       "    <tr>\n",
       "      <th>635</th>\n",
       "      <td>29</td>\n",
       "      <td>18</td>\n",
       "      <td>7.3</td>\n",
       "      <td>294</td>\n",
       "    </tr>\n",
       "    <tr>\n",
       "      <th>636</th>\n",
       "      <td>29</td>\n",
       "      <td>19</td>\n",
       "      <td>6.8</td>\n",
       "      <td>260</td>\n",
       "    </tr>\n",
       "    <tr>\n",
       "      <th>637</th>\n",
       "      <td>29</td>\n",
       "      <td>20</td>\n",
       "      <td>7.0</td>\n",
       "      <td>310</td>\n",
       "    </tr>\n",
       "    <tr>\n",
       "      <th>638</th>\n",
       "      <td>29</td>\n",
       "      <td>21</td>\n",
       "      <td>7.9</td>\n",
       "      <td>363</td>\n",
       "    </tr>\n",
       "  </tbody>\n",
       "</table>\n",
       "</div>"
      ],
      "text/plain": [
       "     season  episode  avg_rating  num_votes\n",
       "634      29       17         7.1        312\n",
       "635      29       18         7.3        294\n",
       "636      29       19         6.8        260\n",
       "637      29       20         7.0        310\n",
       "638      29       21         7.9        363"
      ]
     },
     "execution_count": 34,
     "metadata": {},
     "output_type": "execute_result"
    }
   ],
   "source": [
    "final_simpsons_ratings_df.tail()"
   ]
  },
  {
   "cell_type": "code",
   "execution_count": 35,
   "metadata": {},
   "outputs": [],
   "source": [
    "# title, airdate and viewers per episode from Wikipedia\n",
    "# https://en.wikipedia.org/wiki/List_of_The_Simpsons_episodes_(seasons_1%E2%80%9320)#Episodes\n",
    "tav_df = pd.read_excel('simpsons_full_airdate_viewers.xlsx')"
   ]
  },
  {
   "cell_type": "code",
   "execution_count": 36,
   "metadata": {},
   "outputs": [
    {
     "data": {
      "text/html": [
       "<div>\n",
       "<style scoped>\n",
       "    .dataframe tbody tr th:only-of-type {\n",
       "        vertical-align: middle;\n",
       "    }\n",
       "\n",
       "    .dataframe tbody tr th {\n",
       "        vertical-align: top;\n",
       "    }\n",
       "\n",
       "    .dataframe thead th {\n",
       "        text-align: right;\n",
       "    }\n",
       "</style>\n",
       "<table border=\"1\" class=\"dataframe\">\n",
       "  <thead>\n",
       "    <tr style=\"text-align: right;\">\n",
       "      <th></th>\n",
       "      <th>season</th>\n",
       "      <th>episode_num_overall</th>\n",
       "      <th>episode</th>\n",
       "      <th>title</th>\n",
       "      <th>directed by</th>\n",
       "      <th>written by</th>\n",
       "      <th>original_air_date</th>\n",
       "      <th>prod_code</th>\n",
       "      <th>us_viewers</th>\n",
       "    </tr>\n",
       "  </thead>\n",
       "  <tbody>\n",
       "    <tr>\n",
       "      <th>634</th>\n",
       "      <td>29</td>\n",
       "      <td>635</td>\n",
       "      <td>17</td>\n",
       "      <td>\"Lisa Gets the Blues\"</td>\n",
       "      <td>Bob Anderson</td>\n",
       "      <td>David Silverman &amp; Brian Kelley</td>\n",
       "      <td>2018-04-22</td>\n",
       "      <td>XABF11</td>\n",
       "      <td>2.19</td>\n",
       "    </tr>\n",
       "    <tr>\n",
       "      <th>635</th>\n",
       "      <td>29</td>\n",
       "      <td>636</td>\n",
       "      <td>18</td>\n",
       "      <td>\"Forgive and Regret\"</td>\n",
       "      <td>Rob Oliver</td>\n",
       "      <td>Bill Odenkirk</td>\n",
       "      <td>2018-04-29</td>\n",
       "      <td>XABF09</td>\n",
       "      <td>2.47</td>\n",
       "    </tr>\n",
       "    <tr>\n",
       "      <th>636</th>\n",
       "      <td>29</td>\n",
       "      <td>637</td>\n",
       "      <td>19</td>\n",
       "      <td>\"Left Behind\"</td>\n",
       "      <td>Lance Kramer</td>\n",
       "      <td>NaN</td>\n",
       "      <td>2018-05-06</td>\n",
       "      <td>XABF12</td>\n",
       "      <td>2.15</td>\n",
       "    </tr>\n",
       "    <tr>\n",
       "      <th>637</th>\n",
       "      <td>29</td>\n",
       "      <td>638</td>\n",
       "      <td>20</td>\n",
       "      <td>\"Throw Grampa from the Dane\"</td>\n",
       "      <td>Michael Polcino</td>\n",
       "      <td>Rob LaZebnik</td>\n",
       "      <td>2018-05-13</td>\n",
       "      <td>XABF13</td>\n",
       "      <td>2.14</td>\n",
       "    </tr>\n",
       "    <tr>\n",
       "      <th>638</th>\n",
       "      <td>29</td>\n",
       "      <td>639</td>\n",
       "      <td>21</td>\n",
       "      <td>\"Flanders' Ladder\"</td>\n",
       "      <td>Matthew Nastuk</td>\n",
       "      <td>J. Stewart Burns</td>\n",
       "      <td>2018-05-20</td>\n",
       "      <td>XABF14</td>\n",
       "      <td>2.10</td>\n",
       "    </tr>\n",
       "  </tbody>\n",
       "</table>\n",
       "</div>"
      ],
      "text/plain": [
       "     season  episode_num_overall  episode                         title  \\\n",
       "634      29                  635       17         \"Lisa Gets the Blues\"   \n",
       "635      29                  636       18          \"Forgive and Regret\"   \n",
       "636      29                  637       19                 \"Left Behind\"   \n",
       "637      29                  638       20  \"Throw Grampa from the Dane\"   \n",
       "638      29                  639       21            \"Flanders' Ladder\"   \n",
       "\n",
       "         directed by                      written by original_air_date  \\\n",
       "634     Bob Anderson  David Silverman & Brian Kelley        2018-04-22   \n",
       "635       Rob Oliver                   Bill Odenkirk        2018-04-29   \n",
       "636     Lance Kramer                             NaN        2018-05-06   \n",
       "637  Michael Polcino                    Rob LaZebnik        2018-05-13   \n",
       "638   Matthew Nastuk                J. Stewart Burns        2018-05-20   \n",
       "\n",
       "    prod_code  us_viewers  \n",
       "634    XABF11        2.19  \n",
       "635    XABF09        2.47  \n",
       "636    XABF12        2.15  \n",
       "637    XABF13        2.14  \n",
       "638    XABF14        2.10  "
      ]
     },
     "execution_count": 36,
     "metadata": {},
     "output_type": "execute_result"
    }
   ],
   "source": [
    "tav_df.tail()"
   ]
  },
  {
   "cell_type": "code",
   "execution_count": 37,
   "metadata": {},
   "outputs": [],
   "source": [
    "# remove quotes around the titles\n",
    "tav_df.title = [x.strip('\"') for x in tav_df.title]"
   ]
  },
  {
   "cell_type": "code",
   "execution_count": 38,
   "metadata": {},
   "outputs": [
    {
     "data": {
      "text/html": [
       "<div>\n",
       "<style scoped>\n",
       "    .dataframe tbody tr th:only-of-type {\n",
       "        vertical-align: middle;\n",
       "    }\n",
       "\n",
       "    .dataframe tbody tr th {\n",
       "        vertical-align: top;\n",
       "    }\n",
       "\n",
       "    .dataframe thead th {\n",
       "        text-align: right;\n",
       "    }\n",
       "</style>\n",
       "<table border=\"1\" class=\"dataframe\">\n",
       "  <thead>\n",
       "    <tr style=\"text-align: right;\">\n",
       "      <th></th>\n",
       "      <th>season</th>\n",
       "      <th>episode_num_overall</th>\n",
       "      <th>episode</th>\n",
       "      <th>title</th>\n",
       "      <th>directed by</th>\n",
       "      <th>written by</th>\n",
       "      <th>original_air_date</th>\n",
       "      <th>prod_code</th>\n",
       "      <th>us_viewers</th>\n",
       "    </tr>\n",
       "  </thead>\n",
       "  <tbody>\n",
       "    <tr>\n",
       "      <th>634</th>\n",
       "      <td>29</td>\n",
       "      <td>635</td>\n",
       "      <td>17</td>\n",
       "      <td>Lisa Gets the Blues</td>\n",
       "      <td>Bob Anderson</td>\n",
       "      <td>David Silverman &amp; Brian Kelley</td>\n",
       "      <td>2018-04-22</td>\n",
       "      <td>XABF11</td>\n",
       "      <td>2.19</td>\n",
       "    </tr>\n",
       "    <tr>\n",
       "      <th>635</th>\n",
       "      <td>29</td>\n",
       "      <td>636</td>\n",
       "      <td>18</td>\n",
       "      <td>Forgive and Regret</td>\n",
       "      <td>Rob Oliver</td>\n",
       "      <td>Bill Odenkirk</td>\n",
       "      <td>2018-04-29</td>\n",
       "      <td>XABF09</td>\n",
       "      <td>2.47</td>\n",
       "    </tr>\n",
       "    <tr>\n",
       "      <th>636</th>\n",
       "      <td>29</td>\n",
       "      <td>637</td>\n",
       "      <td>19</td>\n",
       "      <td>Left Behind</td>\n",
       "      <td>Lance Kramer</td>\n",
       "      <td>NaN</td>\n",
       "      <td>2018-05-06</td>\n",
       "      <td>XABF12</td>\n",
       "      <td>2.15</td>\n",
       "    </tr>\n",
       "    <tr>\n",
       "      <th>637</th>\n",
       "      <td>29</td>\n",
       "      <td>638</td>\n",
       "      <td>20</td>\n",
       "      <td>Throw Grampa from the Dane</td>\n",
       "      <td>Michael Polcino</td>\n",
       "      <td>Rob LaZebnik</td>\n",
       "      <td>2018-05-13</td>\n",
       "      <td>XABF13</td>\n",
       "      <td>2.14</td>\n",
       "    </tr>\n",
       "    <tr>\n",
       "      <th>638</th>\n",
       "      <td>29</td>\n",
       "      <td>639</td>\n",
       "      <td>21</td>\n",
       "      <td>Flanders' Ladder</td>\n",
       "      <td>Matthew Nastuk</td>\n",
       "      <td>J. Stewart Burns</td>\n",
       "      <td>2018-05-20</td>\n",
       "      <td>XABF14</td>\n",
       "      <td>2.10</td>\n",
       "    </tr>\n",
       "  </tbody>\n",
       "</table>\n",
       "</div>"
      ],
      "text/plain": [
       "     season  episode_num_overall  episode                       title  \\\n",
       "634      29                  635       17         Lisa Gets the Blues   \n",
       "635      29                  636       18          Forgive and Regret   \n",
       "636      29                  637       19                 Left Behind   \n",
       "637      29                  638       20  Throw Grampa from the Dane   \n",
       "638      29                  639       21            Flanders' Ladder   \n",
       "\n",
       "         directed by                      written by original_air_date  \\\n",
       "634     Bob Anderson  David Silverman & Brian Kelley        2018-04-22   \n",
       "635       Rob Oliver                   Bill Odenkirk        2018-04-29   \n",
       "636     Lance Kramer                             NaN        2018-05-06   \n",
       "637  Michael Polcino                    Rob LaZebnik        2018-05-13   \n",
       "638   Matthew Nastuk                J. Stewart Burns        2018-05-20   \n",
       "\n",
       "    prod_code  us_viewers  \n",
       "634    XABF11        2.19  \n",
       "635    XABF09        2.47  \n",
       "636    XABF12        2.15  \n",
       "637    XABF13        2.14  \n",
       "638    XABF14        2.10  "
      ]
     },
     "execution_count": 38,
     "metadata": {},
     "output_type": "execute_result"
    }
   ],
   "source": [
    "tav_df.tail()"
   ]
  },
  {
   "cell_type": "code",
   "execution_count": 39,
   "metadata": {},
   "outputs": [],
   "source": [
    "# drop columns not needed for the analysis\n",
    "final_tav_df = tav_df[['season', 'episode_num_overall' ,'episode', 'title', 'original_air_date', 'us_viewers']]"
   ]
  },
  {
   "cell_type": "code",
   "execution_count": 40,
   "metadata": {},
   "outputs": [
    {
     "data": {
      "text/html": [
       "<div>\n",
       "<style scoped>\n",
       "    .dataframe tbody tr th:only-of-type {\n",
       "        vertical-align: middle;\n",
       "    }\n",
       "\n",
       "    .dataframe tbody tr th {\n",
       "        vertical-align: top;\n",
       "    }\n",
       "\n",
       "    .dataframe thead th {\n",
       "        text-align: right;\n",
       "    }\n",
       "</style>\n",
       "<table border=\"1\" class=\"dataframe\">\n",
       "  <thead>\n",
       "    <tr style=\"text-align: right;\">\n",
       "      <th></th>\n",
       "      <th>season</th>\n",
       "      <th>episode_num_overall</th>\n",
       "      <th>episode</th>\n",
       "      <th>title</th>\n",
       "      <th>original_air_date</th>\n",
       "      <th>us_viewers</th>\n",
       "    </tr>\n",
       "  </thead>\n",
       "  <tbody>\n",
       "    <tr>\n",
       "      <th>634</th>\n",
       "      <td>29</td>\n",
       "      <td>635</td>\n",
       "      <td>17</td>\n",
       "      <td>Lisa Gets the Blues</td>\n",
       "      <td>2018-04-22</td>\n",
       "      <td>2.19</td>\n",
       "    </tr>\n",
       "    <tr>\n",
       "      <th>635</th>\n",
       "      <td>29</td>\n",
       "      <td>636</td>\n",
       "      <td>18</td>\n",
       "      <td>Forgive and Regret</td>\n",
       "      <td>2018-04-29</td>\n",
       "      <td>2.47</td>\n",
       "    </tr>\n",
       "    <tr>\n",
       "      <th>636</th>\n",
       "      <td>29</td>\n",
       "      <td>637</td>\n",
       "      <td>19</td>\n",
       "      <td>Left Behind</td>\n",
       "      <td>2018-05-06</td>\n",
       "      <td>2.15</td>\n",
       "    </tr>\n",
       "    <tr>\n",
       "      <th>637</th>\n",
       "      <td>29</td>\n",
       "      <td>638</td>\n",
       "      <td>20</td>\n",
       "      <td>Throw Grampa from the Dane</td>\n",
       "      <td>2018-05-13</td>\n",
       "      <td>2.14</td>\n",
       "    </tr>\n",
       "    <tr>\n",
       "      <th>638</th>\n",
       "      <td>29</td>\n",
       "      <td>639</td>\n",
       "      <td>21</td>\n",
       "      <td>Flanders' Ladder</td>\n",
       "      <td>2018-05-20</td>\n",
       "      <td>2.10</td>\n",
       "    </tr>\n",
       "  </tbody>\n",
       "</table>\n",
       "</div>"
      ],
      "text/plain": [
       "     season  episode_num_overall  episode                       title  \\\n",
       "634      29                  635       17         Lisa Gets the Blues   \n",
       "635      29                  636       18          Forgive and Regret   \n",
       "636      29                  637       19                 Left Behind   \n",
       "637      29                  638       20  Throw Grampa from the Dane   \n",
       "638      29                  639       21            Flanders' Ladder   \n",
       "\n",
       "    original_air_date  us_viewers  \n",
       "634        2018-04-22        2.19  \n",
       "635        2018-04-29        2.47  \n",
       "636        2018-05-06        2.15  \n",
       "637        2018-05-13        2.14  \n",
       "638        2018-05-20        2.10  "
      ]
     },
     "execution_count": 40,
     "metadata": {},
     "output_type": "execute_result"
    }
   ],
   "source": [
    "final_tav_df.tail()"
   ]
  },
  {
   "cell_type": "code",
   "execution_count": 41,
   "metadata": {},
   "outputs": [],
   "source": [
    "# merge the ratings_df and tav_df on season and episode\n",
    "final_simpsons_df = final_simpsons_ratings_df.merge(final_tav_df, on=['season', 'episode'], how='inner')"
   ]
  },
  {
   "cell_type": "code",
   "execution_count": 42,
   "metadata": {},
   "outputs": [
    {
     "data": {
      "text/html": [
       "<div>\n",
       "<style scoped>\n",
       "    .dataframe tbody tr th:only-of-type {\n",
       "        vertical-align: middle;\n",
       "    }\n",
       "\n",
       "    .dataframe tbody tr th {\n",
       "        vertical-align: top;\n",
       "    }\n",
       "\n",
       "    .dataframe thead th {\n",
       "        text-align: right;\n",
       "    }\n",
       "</style>\n",
       "<table border=\"1\" class=\"dataframe\">\n",
       "  <thead>\n",
       "    <tr style=\"text-align: right;\">\n",
       "      <th></th>\n",
       "      <th>season</th>\n",
       "      <th>episode</th>\n",
       "      <th>avg_rating</th>\n",
       "      <th>num_votes</th>\n",
       "      <th>episode_num_overall</th>\n",
       "      <th>title</th>\n",
       "      <th>original_air_date</th>\n",
       "      <th>us_viewers</th>\n",
       "    </tr>\n",
       "  </thead>\n",
       "  <tbody>\n",
       "    <tr>\n",
       "      <th>0</th>\n",
       "      <td>1</td>\n",
       "      <td>1</td>\n",
       "      <td>8.2</td>\n",
       "      <td>4511</td>\n",
       "      <td>1</td>\n",
       "      <td>Simpsons Roasting on an Open Fire</td>\n",
       "      <td>1989-12-17</td>\n",
       "      <td>26.7</td>\n",
       "    </tr>\n",
       "    <tr>\n",
       "      <th>1</th>\n",
       "      <td>1</td>\n",
       "      <td>2</td>\n",
       "      <td>7.8</td>\n",
       "      <td>2633</td>\n",
       "      <td>2</td>\n",
       "      <td>Bart the Genius</td>\n",
       "      <td>1990-01-14</td>\n",
       "      <td>24.5</td>\n",
       "    </tr>\n",
       "    <tr>\n",
       "      <th>2</th>\n",
       "      <td>1</td>\n",
       "      <td>3</td>\n",
       "      <td>7.5</td>\n",
       "      <td>2304</td>\n",
       "      <td>3</td>\n",
       "      <td>Homer's Odyssey</td>\n",
       "      <td>1990-01-21</td>\n",
       "      <td>27.5</td>\n",
       "    </tr>\n",
       "    <tr>\n",
       "      <th>3</th>\n",
       "      <td>1</td>\n",
       "      <td>4</td>\n",
       "      <td>7.8</td>\n",
       "      <td>2274</td>\n",
       "      <td>4</td>\n",
       "      <td>There's No Disgrace Like Home</td>\n",
       "      <td>1990-01-28</td>\n",
       "      <td>20.2</td>\n",
       "    </tr>\n",
       "    <tr>\n",
       "      <th>4</th>\n",
       "      <td>1</td>\n",
       "      <td>5</td>\n",
       "      <td>8.1</td>\n",
       "      <td>2326</td>\n",
       "      <td>5</td>\n",
       "      <td>Bart the General</td>\n",
       "      <td>1990-02-04</td>\n",
       "      <td>27.1</td>\n",
       "    </tr>\n",
       "  </tbody>\n",
       "</table>\n",
       "</div>"
      ],
      "text/plain": [
       "   season  episode  avg_rating  num_votes  episode_num_overall  \\\n",
       "0       1        1         8.2       4511                    1   \n",
       "1       1        2         7.8       2633                    2   \n",
       "2       1        3         7.5       2304                    3   \n",
       "3       1        4         7.8       2274                    4   \n",
       "4       1        5         8.1       2326                    5   \n",
       "\n",
       "                               title original_air_date  us_viewers  \n",
       "0  Simpsons Roasting on an Open Fire        1989-12-17        26.7  \n",
       "1                    Bart the Genius        1990-01-14        24.5  \n",
       "2                    Homer's Odyssey        1990-01-21        27.5  \n",
       "3      There's No Disgrace Like Home        1990-01-28        20.2  \n",
       "4                   Bart the General        1990-02-04        27.1  "
      ]
     },
     "execution_count": 42,
     "metadata": {},
     "output_type": "execute_result"
    }
   ],
   "source": [
    "final_simpsons_df.head()"
   ]
  },
  {
   "cell_type": "code",
   "execution_count": 43,
   "metadata": {},
   "outputs": [
    {
     "data": {
      "text/html": [
       "<div>\n",
       "<style scoped>\n",
       "    .dataframe tbody tr th:only-of-type {\n",
       "        vertical-align: middle;\n",
       "    }\n",
       "\n",
       "    .dataframe tbody tr th {\n",
       "        vertical-align: top;\n",
       "    }\n",
       "\n",
       "    .dataframe thead th {\n",
       "        text-align: right;\n",
       "    }\n",
       "</style>\n",
       "<table border=\"1\" class=\"dataframe\">\n",
       "  <thead>\n",
       "    <tr style=\"text-align: right;\">\n",
       "      <th></th>\n",
       "      <th>season</th>\n",
       "      <th>episode</th>\n",
       "      <th>avg_rating</th>\n",
       "      <th>num_votes</th>\n",
       "      <th>episode_num_overall</th>\n",
       "      <th>title</th>\n",
       "      <th>original_air_date</th>\n",
       "      <th>us_viewers</th>\n",
       "    </tr>\n",
       "  </thead>\n",
       "  <tbody>\n",
       "    <tr>\n",
       "      <th>634</th>\n",
       "      <td>29</td>\n",
       "      <td>17</td>\n",
       "      <td>7.1</td>\n",
       "      <td>312</td>\n",
       "      <td>635</td>\n",
       "      <td>Lisa Gets the Blues</td>\n",
       "      <td>2018-04-22</td>\n",
       "      <td>2.19</td>\n",
       "    </tr>\n",
       "    <tr>\n",
       "      <th>635</th>\n",
       "      <td>29</td>\n",
       "      <td>18</td>\n",
       "      <td>7.3</td>\n",
       "      <td>294</td>\n",
       "      <td>636</td>\n",
       "      <td>Forgive and Regret</td>\n",
       "      <td>2018-04-29</td>\n",
       "      <td>2.47</td>\n",
       "    </tr>\n",
       "    <tr>\n",
       "      <th>636</th>\n",
       "      <td>29</td>\n",
       "      <td>19</td>\n",
       "      <td>6.8</td>\n",
       "      <td>260</td>\n",
       "      <td>637</td>\n",
       "      <td>Left Behind</td>\n",
       "      <td>2018-05-06</td>\n",
       "      <td>2.15</td>\n",
       "    </tr>\n",
       "    <tr>\n",
       "      <th>637</th>\n",
       "      <td>29</td>\n",
       "      <td>20</td>\n",
       "      <td>7.0</td>\n",
       "      <td>310</td>\n",
       "      <td>638</td>\n",
       "      <td>Throw Grampa from the Dane</td>\n",
       "      <td>2018-05-13</td>\n",
       "      <td>2.14</td>\n",
       "    </tr>\n",
       "    <tr>\n",
       "      <th>638</th>\n",
       "      <td>29</td>\n",
       "      <td>21</td>\n",
       "      <td>7.9</td>\n",
       "      <td>363</td>\n",
       "      <td>639</td>\n",
       "      <td>Flanders' Ladder</td>\n",
       "      <td>2018-05-20</td>\n",
       "      <td>2.10</td>\n",
       "    </tr>\n",
       "  </tbody>\n",
       "</table>\n",
       "</div>"
      ],
      "text/plain": [
       "     season  episode  avg_rating  num_votes  episode_num_overall  \\\n",
       "634      29       17         7.1        312                  635   \n",
       "635      29       18         7.3        294                  636   \n",
       "636      29       19         6.8        260                  637   \n",
       "637      29       20         7.0        310                  638   \n",
       "638      29       21         7.9        363                  639   \n",
       "\n",
       "                          title original_air_date  us_viewers  \n",
       "634         Lisa Gets the Blues        2018-04-22        2.19  \n",
       "635          Forgive and Regret        2018-04-29        2.47  \n",
       "636                 Left Behind        2018-05-06        2.15  \n",
       "637  Throw Grampa from the Dane        2018-05-13        2.14  \n",
       "638            Flanders' Ladder        2018-05-20        2.10  "
      ]
     },
     "execution_count": 43,
     "metadata": {},
     "output_type": "execute_result"
    }
   ],
   "source": [
    "final_simpsons_df.tail()"
   ]
  },
  {
   "cell_type": "code",
   "execution_count": 44,
   "metadata": {},
   "outputs": [
    {
     "data": {
      "text/plain": [
       "season                          int64\n",
       "episode                         int64\n",
       "avg_rating                    float64\n",
       "num_votes                       int64\n",
       "episode_num_overall             int64\n",
       "title                          object\n",
       "original_air_date      datetime64[ns]\n",
       "us_viewers                    float64\n",
       "dtype: object"
      ]
     },
     "execution_count": 44,
     "metadata": {},
     "output_type": "execute_result"
    }
   ],
   "source": [
    "final_simpsons_df.dtypes"
   ]
  },
  {
   "attachments": {},
   "cell_type": "markdown",
   "metadata": {},
   "source": [
    "# Step 2\n",
    "## Visualize the data"
   ]
  },
  {
   "cell_type": "code",
   "execution_count": 45,
   "metadata": {},
   "outputs": [
    {
     "data": {
      "text/plain": [
       "<matplotlib.axes._subplots.AxesSubplot at 0x11b935c50>"
      ]
     },
     "execution_count": 45,
     "metadata": {},
     "output_type": "execute_result"
    },
    {
     "data": {
      "image/png": "[encoded data removed]",
      "text/plain": [
       "<Figure size 648x432 with 1 Axes>"
      ]
     },
     "metadata": {},
     "output_type": "display_data"
    }
   ],
   "source": [
    "# scatter plot to see the avg ratings and viewers data\n",
    "# are there outliers?\n",
    "final_simpsons_df.plot.scatter(x='us_viewers', y='avg_rating', figsize=(9,6))"
   ]
  },
  {
   "cell_type": "code",
   "execution_count": 46,
   "metadata": {},
   "outputs": [
    {
     "data": {
      "text/plain": [
       "array([[<matplotlib.axes._subplots.AxesSubplot object at 0x11bb230b8>]],\n",
       "      dtype=object)"
      ]
     },
     "execution_count": 46,
     "metadata": {},
     "output_type": "execute_result"
    },
    {
     "data": {
      "image/png": "[encoded data removed]",
      "text/plain": [
       "<Figure size 648x432 with 1 Axes>"
      ]
     },
     "metadata": {},
     "output_type": "display_data"
    }
   ],
   "source": [
    "# potential outliers - ratings less than 5 and US viewers 5 million; viewers over 30 million\n",
    "# so, the higher the rating the more viewers\n",
    "\n",
    "# histogram of avg_rating\n",
    "final_simpsons_df.hist(column='avg_rating', figsize=(9,6))"
   ]
  },
  {
   "cell_type": "code",
   "execution_count": 47,
   "metadata": {},
   "outputs": [
    {
     "data": {
      "text/plain": [
       "<matplotlib.axes._subplots.AxesSubplot at 0x11bc7e8d0>"
      ]
     },
     "execution_count": 47,
     "metadata": {},
     "output_type": "execute_result"
    },
    {
     "data": {
      "image/png": "[encoded data removed]",
      "text/plain": [
       "<Figure size 648x432 with 1 Axes>"
      ]
     },
     "metadata": {},
     "output_type": "display_data"
    }
   ],
   "source": [
    "# most ratings in the 6.5 to 7.5 range\n",
    "\n",
    "# boxplot of avg_rating\n",
    "final_simpsons_df.boxplot(column='avg_rating', figsize=(9,6))"
   ]
  },
  {
   "cell_type": "code",
   "execution_count": 48,
   "metadata": {},
   "outputs": [
    {
     "data": {
      "text/plain": [
       "array([[<matplotlib.axes._subplots.AxesSubplot object at 0x11bdbcf60>]],\n",
       "      dtype=object)"
      ]
     },
     "execution_count": 48,
     "metadata": {},
     "output_type": "execute_result"
    },
    {
     "data": {
      "image/png": "[encoded data removed]",
      "text/plain": [
       "<Figure size 648x432 with 1 Axes>"
      ]
     },
     "metadata": {},
     "output_type": "display_data"
    }
   ],
   "source": [
    "# histogram of us_viewers\n",
    "final_simpsons_df.hist(column='us_viewers', figsize=(9,6))"
   ]
  },
  {
   "cell_type": "code",
   "execution_count": 49,
   "metadata": {},
   "outputs": [
    {
     "data": {
      "text/plain": [
       "<matplotlib.axes._subplots.AxesSubplot at 0x11be24c18>"
      ]
     },
     "execution_count": 49,
     "metadata": {},
     "output_type": "execute_result"
    },
    {
     "data": {
      "image/png": "[encoded data removed]",
      "text/plain": [
       "<Figure size 648x432 with 1 Axes>"
      ]
     },
     "metadata": {},
     "output_type": "display_data"
    }
   ],
   "source": [
    "# healthy numbers in the 5 to 10 million range and right skewed\n",
    "\n",
    "# boxplot of us_viewers\n",
    "final_simpsons_df.boxplot(column='us_viewers', figsize=(9,6))"
   ]
  },
  {
   "cell_type": "code",
   "execution_count": 50,
   "metadata": {},
   "outputs": [],
   "source": [
    "# some oultiers in the 25 million plus US Viewership"
   ]
  },
  {
   "cell_type": "markdown",
   "metadata": {},
   "source": [
    "# Step 3 \n",
    "## Granular details"
   ]
  },
  {
   "cell_type": "code",
   "execution_count": 51,
   "metadata": {},
   "outputs": [
    {
     "data": {
      "text/html": [
       "<div>\n",
       "<style scoped>\n",
       "    .dataframe tbody tr th:only-of-type {\n",
       "        vertical-align: middle;\n",
       "    }\n",
       "\n",
       "    .dataframe tbody tr th {\n",
       "        vertical-align: top;\n",
       "    }\n",
       "\n",
       "    .dataframe thead th {\n",
       "        text-align: right;\n",
       "    }\n",
       "</style>\n",
       "<table border=\"1\" class=\"dataframe\">\n",
       "  <thead>\n",
       "    <tr style=\"text-align: right;\">\n",
       "      <th></th>\n",
       "      <th>season</th>\n",
       "      <th>episode</th>\n",
       "      <th>avg_rating</th>\n",
       "      <th>num_votes</th>\n",
       "      <th>episode_num_overall</th>\n",
       "      <th>title</th>\n",
       "      <th>original_air_date</th>\n",
       "      <th>us_viewers</th>\n",
       "    </tr>\n",
       "  </thead>\n",
       "  <tbody>\n",
       "    <tr>\n",
       "      <th>175</th>\n",
       "      <td>8</td>\n",
       "      <td>23</td>\n",
       "      <td>9.3</td>\n",
       "      <td>3130</td>\n",
       "      <td>176</td>\n",
       "      <td>Homer's Enemy</td>\n",
       "      <td>1997-05-04</td>\n",
       "      <td>11.8</td>\n",
       "    </tr>\n",
       "    <tr>\n",
       "      <th>154</th>\n",
       "      <td>8</td>\n",
       "      <td>2</td>\n",
       "      <td>9.2</td>\n",
       "      <td>3222</td>\n",
       "      <td>155</td>\n",
       "      <td>You Only Move Twice</td>\n",
       "      <td>1996-11-03</td>\n",
       "      <td>13.9</td>\n",
       "    </tr>\n",
       "    <tr>\n",
       "      <th>127</th>\n",
       "      <td>6</td>\n",
       "      <td>25</td>\n",
       "      <td>9.1</td>\n",
       "      <td>2243</td>\n",
       "      <td>128</td>\n",
       "      <td>Who Shot Mr. Burns? (Part One)</td>\n",
       "      <td>1995-05-21</td>\n",
       "      <td>15.0</td>\n",
       "    </tr>\n",
       "    <tr>\n",
       "      <th>178</th>\n",
       "      <td>9</td>\n",
       "      <td>1</td>\n",
       "      <td>9.1</td>\n",
       "      <td>2522</td>\n",
       "      <td>179</td>\n",
       "      <td>The City of New York vs. Homer Simpson</td>\n",
       "      <td>1997-09-21</td>\n",
       "      <td>10.5</td>\n",
       "    </tr>\n",
       "    <tr>\n",
       "      <th>162</th>\n",
       "      <td>8</td>\n",
       "      <td>10</td>\n",
       "      <td>9.1</td>\n",
       "      <td>2364</td>\n",
       "      <td>163</td>\n",
       "      <td>The Springfield Files</td>\n",
       "      <td>1997-01-12</td>\n",
       "      <td>20.9</td>\n",
       "    </tr>\n",
       "    <tr>\n",
       "      <th>82</th>\n",
       "      <td>5</td>\n",
       "      <td>2</td>\n",
       "      <td>9.1</td>\n",
       "      <td>2791</td>\n",
       "      <td>83</td>\n",
       "      <td>Cape Feare</td>\n",
       "      <td>1993-10-07</td>\n",
       "      <td>20.0</td>\n",
       "    </tr>\n",
       "    <tr>\n",
       "      <th>108</th>\n",
       "      <td>6</td>\n",
       "      <td>6</td>\n",
       "      <td>9.1</td>\n",
       "      <td>2360</td>\n",
       "      <td>109</td>\n",
       "      <td>Treehouse of Horror V</td>\n",
       "      <td>1994-10-30</td>\n",
       "      <td>22.2</td>\n",
       "    </tr>\n",
       "    <tr>\n",
       "      <th>75</th>\n",
       "      <td>4</td>\n",
       "      <td>17</td>\n",
       "      <td>9.1</td>\n",
       "      <td>2435</td>\n",
       "      <td>76</td>\n",
       "      <td>Last Exit to Springfield</td>\n",
       "      <td>1993-03-11</td>\n",
       "      <td>22.4</td>\n",
       "    </tr>\n",
       "    <tr>\n",
       "      <th>111</th>\n",
       "      <td>6</td>\n",
       "      <td>9</td>\n",
       "      <td>9.0</td>\n",
       "      <td>2210</td>\n",
       "      <td>112</td>\n",
       "      <td>Homer Badman</td>\n",
       "      <td>1994-11-27</td>\n",
       "      <td>17.0</td>\n",
       "    </tr>\n",
       "    <tr>\n",
       "      <th>128</th>\n",
       "      <td>7</td>\n",
       "      <td>1</td>\n",
       "      <td>9.0</td>\n",
       "      <td>2017</td>\n",
       "      <td>129</td>\n",
       "      <td>Who Shot Mr. Burns? (Part Two)</td>\n",
       "      <td>1995-09-17</td>\n",
       "      <td>16.0</td>\n",
       "    </tr>\n",
       "  </tbody>\n",
       "</table>\n",
       "</div>"
      ],
      "text/plain": [
       "     season  episode  avg_rating  num_votes  episode_num_overall  \\\n",
       "175       8       23         9.3       3130                  176   \n",
       "154       8        2         9.2       3222                  155   \n",
       "127       6       25         9.1       2243                  128   \n",
       "178       9        1         9.1       2522                  179   \n",
       "162       8       10         9.1       2364                  163   \n",
       "82        5        2         9.1       2791                   83   \n",
       "108       6        6         9.1       2360                  109   \n",
       "75        4       17         9.1       2435                   76   \n",
       "111       6        9         9.0       2210                  112   \n",
       "128       7        1         9.0       2017                  129   \n",
       "\n",
       "                                      title original_air_date  us_viewers  \n",
       "175                           Homer's Enemy        1997-05-04        11.8  \n",
       "154                     You Only Move Twice        1996-11-03        13.9  \n",
       "127          Who Shot Mr. Burns? (Part One)        1995-05-21        15.0  \n",
       "178  The City of New York vs. Homer Simpson        1997-09-21        10.5  \n",
       "162                   The Springfield Files        1997-01-12        20.9  \n",
       "82                               Cape Feare        1993-10-07        20.0  \n",
       "108                   Treehouse of Horror V        1994-10-30        22.2  \n",
       "75                 Last Exit to Springfield        1993-03-11        22.4  \n",
       "111                            Homer Badman        1994-11-27        17.0  \n",
       "128          Who Shot Mr. Burns? (Part Two)        1995-09-17        16.0  "
      ]
     },
     "execution_count": 51,
     "metadata": {},
     "output_type": "execute_result"
    }
   ],
   "source": [
    "# highest rated episodes\n",
    "final_simpsons_df.sort_values(['avg_rating'],ascending=False)[0:10]"
   ]
  },
  {
   "cell_type": "code",
   "execution_count": 52,
   "metadata": {},
   "outputs": [
    {
     "data": {
      "text/html": [
       "<div>\n",
       "<style scoped>\n",
       "    .dataframe tbody tr th:only-of-type {\n",
       "        vertical-align: middle;\n",
       "    }\n",
       "\n",
       "    .dataframe tbody tr th {\n",
       "        vertical-align: top;\n",
       "    }\n",
       "\n",
       "    .dataframe thead th {\n",
       "        text-align: right;\n",
       "    }\n",
       "</style>\n",
       "<table border=\"1\" class=\"dataframe\">\n",
       "  <thead>\n",
       "    <tr style=\"text-align: right;\">\n",
       "      <th></th>\n",
       "      <th>season</th>\n",
       "      <th>episode</th>\n",
       "      <th>avg_rating</th>\n",
       "      <th>num_votes</th>\n",
       "      <th>episode_num_overall</th>\n",
       "      <th>title</th>\n",
       "      <th>original_air_date</th>\n",
       "      <th>us_viewers</th>\n",
       "    </tr>\n",
       "  </thead>\n",
       "  <tbody>\n",
       "    <tr>\n",
       "      <th>507</th>\n",
       "      <td>23</td>\n",
       "      <td>22</td>\n",
       "      <td>4.3</td>\n",
       "      <td>1731</td>\n",
       "      <td>508</td>\n",
       "      <td>Lisa Goes Gaga</td>\n",
       "      <td>2012-05-20</td>\n",
       "      <td>4.82</td>\n",
       "    </tr>\n",
       "    <tr>\n",
       "      <th>188</th>\n",
       "      <td>9</td>\n",
       "      <td>11</td>\n",
       "      <td>5.2</td>\n",
       "      <td>1475</td>\n",
       "      <td>189</td>\n",
       "      <td>All Singing, All Dancing</td>\n",
       "      <td>1998-01-04</td>\n",
       "      <td>8.90</td>\n",
       "    </tr>\n",
       "    <tr>\n",
       "      <th>497</th>\n",
       "      <td>23</td>\n",
       "      <td>12</td>\n",
       "      <td>5.6</td>\n",
       "      <td>756</td>\n",
       "      <td>498</td>\n",
       "      <td>Moe Goes from Rags to Riches</td>\n",
       "      <td>2012-01-29</td>\n",
       "      <td>5.12</td>\n",
       "    </tr>\n",
       "    <tr>\n",
       "      <th>456</th>\n",
       "      <td>21</td>\n",
       "      <td>16</td>\n",
       "      <td>5.7</td>\n",
       "      <td>906</td>\n",
       "      <td>457</td>\n",
       "      <td>The Greatest Story Ever D'ohed</td>\n",
       "      <td>2010-03-28</td>\n",
       "      <td>5.69</td>\n",
       "    </tr>\n",
       "    <tr>\n",
       "      <th>285</th>\n",
       "      <td>13</td>\n",
       "      <td>17</td>\n",
       "      <td>5.7</td>\n",
       "      <td>1002</td>\n",
       "      <td>286</td>\n",
       "      <td>Gump Roast</td>\n",
       "      <td>2002-04-21</td>\n",
       "      <td>12.30</td>\n",
       "    </tr>\n",
       "    <tr>\n",
       "      <th>563</th>\n",
       "      <td>26</td>\n",
       "      <td>12</td>\n",
       "      <td>5.9</td>\n",
       "      <td>644</td>\n",
       "      <td>564</td>\n",
       "      <td>The Musk Who Fell to Earth</td>\n",
       "      <td>2015-01-25</td>\n",
       "      <td>3.29</td>\n",
       "    </tr>\n",
       "    <tr>\n",
       "      <th>574</th>\n",
       "      <td>27</td>\n",
       "      <td>1</td>\n",
       "      <td>5.9</td>\n",
       "      <td>791</td>\n",
       "      <td>575</td>\n",
       "      <td>Every Man's Dream</td>\n",
       "      <td>2015-09-27</td>\n",
       "      <td>3.28</td>\n",
       "    </tr>\n",
       "    <tr>\n",
       "      <th>552</th>\n",
       "      <td>26</td>\n",
       "      <td>1</td>\n",
       "      <td>5.9</td>\n",
       "      <td>852</td>\n",
       "      <td>553</td>\n",
       "      <td>Clown in the Dumps</td>\n",
       "      <td>2014-09-28</td>\n",
       "      <td>8.53</td>\n",
       "    </tr>\n",
       "    <tr>\n",
       "      <th>548</th>\n",
       "      <td>25</td>\n",
       "      <td>19</td>\n",
       "      <td>5.9</td>\n",
       "      <td>616</td>\n",
       "      <td>549</td>\n",
       "      <td>What to Expect When Bart's Expecting</td>\n",
       "      <td>2014-04-27</td>\n",
       "      <td>3.45</td>\n",
       "    </tr>\n",
       "    <tr>\n",
       "      <th>428</th>\n",
       "      <td>20</td>\n",
       "      <td>9</td>\n",
       "      <td>6.0</td>\n",
       "      <td>943</td>\n",
       "      <td>429</td>\n",
       "      <td>Lisa the Drama Queen</td>\n",
       "      <td>2009-01-25</td>\n",
       "      <td>5.75</td>\n",
       "    </tr>\n",
       "  </tbody>\n",
       "</table>\n",
       "</div>"
      ],
      "text/plain": [
       "     season  episode  avg_rating  num_votes  episode_num_overall  \\\n",
       "507      23       22         4.3       1731                  508   \n",
       "188       9       11         5.2       1475                  189   \n",
       "497      23       12         5.6        756                  498   \n",
       "456      21       16         5.7        906                  457   \n",
       "285      13       17         5.7       1002                  286   \n",
       "563      26       12         5.9        644                  564   \n",
       "574      27        1         5.9        791                  575   \n",
       "552      26        1         5.9        852                  553   \n",
       "548      25       19         5.9        616                  549   \n",
       "428      20        9         6.0        943                  429   \n",
       "\n",
       "                                    title original_air_date  us_viewers  \n",
       "507                        Lisa Goes Gaga        2012-05-20        4.82  \n",
       "188              All Singing, All Dancing        1998-01-04        8.90  \n",
       "497          Moe Goes from Rags to Riches        2012-01-29        5.12  \n",
       "456        The Greatest Story Ever D'ohed        2010-03-28        5.69  \n",
       "285                            Gump Roast        2002-04-21       12.30  \n",
       "563            The Musk Who Fell to Earth        2015-01-25        3.29  \n",
       "574                     Every Man's Dream        2015-09-27        3.28  \n",
       "552                    Clown in the Dumps        2014-09-28        8.53  \n",
       "548  What to Expect When Bart's Expecting        2014-04-27        3.45  \n",
       "428                  Lisa the Drama Queen        2009-01-25        5.75  "
      ]
     },
     "execution_count": 52,
     "metadata": {},
     "output_type": "execute_result"
    }
   ],
   "source": [
    "# lowest rated episodes\n",
    "final_simpsons_df.sort_values(['avg_rating'],ascending=True)[0:10]"
   ]
  },
  {
   "cell_type": "code",
   "execution_count": 53,
   "metadata": {
    "scrolled": true
   },
   "outputs": [
    {
     "data": {
      "text/plain": [
       "season\n",
       "1     7.823077\n",
       "2     8.059091\n",
       "3     8.195833\n",
       "4     8.327273\n",
       "5     8.381818\n",
       "6     8.364000\n",
       "7     8.368000\n",
       "8     8.276000\n",
       "9     7.868000\n",
       "10    7.639130\n",
       "11    7.295455\n",
       "12    7.428571\n",
       "13    7.131818\n",
       "14    7.136364\n",
       "15    7.086364\n",
       "16    6.919048\n",
       "17    6.936364\n",
       "18    6.954545\n",
       "19    6.910000\n",
       "20    6.928571\n",
       "21    6.826087\n",
       "22    6.722727\n",
       "23    6.759091\n",
       "24    6.727273\n",
       "25    6.813636\n",
       "26    6.709091\n",
       "27    6.827273\n",
       "28    6.609091\n",
       "29    6.761905\n",
       "Name: avg_rating, dtype: float64"
      ]
     },
     "execution_count": 53,
     "metadata": {},
     "output_type": "execute_result"
    }
   ],
   "source": [
    "# average ratings by year\n",
    "final_simpsons_df.groupby(['season'])['avg_rating'].mean()"
   ]
  },
  {
   "cell_type": "code",
   "execution_count": 54,
   "metadata": {},
   "outputs": [
    {
     "data": {
      "text/plain": [
       "<function matplotlib.pyplot.show(*args, **kw)>"
      ]
     },
     "execution_count": 54,
     "metadata": {},
     "output_type": "execute_result"
    },
    {
     "data": {
      "image/png": "[encoded data removed]",
      "text/plain": [
       "<Figure size 648x432 with 1 Axes>"
      ]
     },
     "metadata": {},
     "output_type": "display_data"
    }
   ],
   "source": [
    "fig = plt.figure(figsize=(9,6))\n",
    "\n",
    "plt.plot(final_simpsons_df.groupby(['season'])['avg_rating'].mean(), linewidth=3)\n",
    "\n",
    "plt.ylabel('Rating')\n",
    "plt.xlabel('Season')\n",
    "plt.title('The Simpsons Yearly IMBD Rating')\n",
    "plt.axis([1, 30, 6, 9])\n",
    "#plt.grid(True)\n",
    "\n",
    "plt.show"
   ]
  },
  {
   "attachments": {},
   "cell_type": "markdown",
   "metadata": {},
   "source": [
    "The show has held up fairly well. The average ratings of all episodes in season one was 7.82 (out of 10) and peaked in season 5 at 8.38. Last season (29) the ratings average was 6.76. Not a bad decline. Interestingly though, the highest rated individual episodes were between seasons 4 and 8, the peak of the highest ratings by year. The majority of the lowest rated seasons were in seasons 20-28 with one episode each in season 6, 9 and 13."
   ]
  },
  {
   "cell_type": "code",
   "execution_count": null,
   "metadata": {},
   "outputs": [],
   "source": []
  },
  {
   "cell_type": "code",
   "execution_count": 55,
   "metadata": {},
   "outputs": [
    {
     "data": {
      "text/html": [
       "<div>\n",
       "<style scoped>\n",
       "    .dataframe tbody tr th:only-of-type {\n",
       "        vertical-align: middle;\n",
       "    }\n",
       "\n",
       "    .dataframe tbody tr th {\n",
       "        vertical-align: top;\n",
       "    }\n",
       "\n",
       "    .dataframe thead th {\n",
       "        text-align: right;\n",
       "    }\n",
       "</style>\n",
       "<table border=\"1\" class=\"dataframe\">\n",
       "  <thead>\n",
       "    <tr style=\"text-align: right;\">\n",
       "      <th></th>\n",
       "      <th>season</th>\n",
       "      <th>episode</th>\n",
       "      <th>avg_rating</th>\n",
       "      <th>num_votes</th>\n",
       "      <th>episode_num_overall</th>\n",
       "      <th>title</th>\n",
       "      <th>original_air_date</th>\n",
       "      <th>us_viewers</th>\n",
       "    </tr>\n",
       "  </thead>\n",
       "  <tbody>\n",
       "    <tr>\n",
       "      <th>13</th>\n",
       "      <td>2</td>\n",
       "      <td>1</td>\n",
       "      <td>8.2</td>\n",
       "      <td>2226</td>\n",
       "      <td>14</td>\n",
       "      <td>Bart Gets an \"F</td>\n",
       "      <td>1990-10-11</td>\n",
       "      <td>33.6</td>\n",
       "    </tr>\n",
       "    <tr>\n",
       "      <th>8</th>\n",
       "      <td>1</td>\n",
       "      <td>9</td>\n",
       "      <td>7.5</td>\n",
       "      <td>2122</td>\n",
       "      <td>9</td>\n",
       "      <td>Life on the Fast Lane</td>\n",
       "      <td>1990-03-18</td>\n",
       "      <td>33.5</td>\n",
       "    </tr>\n",
       "    <tr>\n",
       "      <th>10</th>\n",
       "      <td>1</td>\n",
       "      <td>11</td>\n",
       "      <td>7.8</td>\n",
       "      <td>2073</td>\n",
       "      <td>11</td>\n",
       "      <td>The Crepes of Wrath</td>\n",
       "      <td>1990-04-15</td>\n",
       "      <td>31.2</td>\n",
       "    </tr>\n",
       "    <tr>\n",
       "      <th>11</th>\n",
       "      <td>1</td>\n",
       "      <td>12</td>\n",
       "      <td>8.4</td>\n",
       "      <td>2261</td>\n",
       "      <td>12</td>\n",
       "      <td>Krusty Gets Busted</td>\n",
       "      <td>1990-04-29</td>\n",
       "      <td>30.4</td>\n",
       "    </tr>\n",
       "    <tr>\n",
       "      <th>9</th>\n",
       "      <td>1</td>\n",
       "      <td>10</td>\n",
       "      <td>7.5</td>\n",
       "      <td>2041</td>\n",
       "      <td>10</td>\n",
       "      <td>Homer's Night Out</td>\n",
       "      <td>1990-03-25</td>\n",
       "      <td>30.3</td>\n",
       "    </tr>\n",
       "    <tr>\n",
       "      <th>14</th>\n",
       "      <td>2</td>\n",
       "      <td>2</td>\n",
       "      <td>8.3</td>\n",
       "      <td>2136</td>\n",
       "      <td>15</td>\n",
       "      <td>Simpson and Delilah</td>\n",
       "      <td>1990-10-18</td>\n",
       "      <td>29.9</td>\n",
       "    </tr>\n",
       "    <tr>\n",
       "      <th>68</th>\n",
       "      <td>4</td>\n",
       "      <td>10</td>\n",
       "      <td>8.6</td>\n",
       "      <td>1824</td>\n",
       "      <td>69</td>\n",
       "      <td>Lisa's First Word</td>\n",
       "      <td>1992-12-03</td>\n",
       "      <td>28.6</td>\n",
       "    </tr>\n",
       "    <tr>\n",
       "      <th>7</th>\n",
       "      <td>1</td>\n",
       "      <td>8</td>\n",
       "      <td>7.7</td>\n",
       "      <td>2124</td>\n",
       "      <td>8</td>\n",
       "      <td>The Telltale Head</td>\n",
       "      <td>1990-02-25</td>\n",
       "      <td>28.0</td>\n",
       "    </tr>\n",
       "    <tr>\n",
       "      <th>6</th>\n",
       "      <td>1</td>\n",
       "      <td>7</td>\n",
       "      <td>7.9</td>\n",
       "      <td>2178</td>\n",
       "      <td>7</td>\n",
       "      <td>The Call of the Simpsons</td>\n",
       "      <td>1990-02-18</td>\n",
       "      <td>27.6</td>\n",
       "    </tr>\n",
       "    <tr>\n",
       "      <th>2</th>\n",
       "      <td>1</td>\n",
       "      <td>3</td>\n",
       "      <td>7.5</td>\n",
       "      <td>2304</td>\n",
       "      <td>3</td>\n",
       "      <td>Homer's Odyssey</td>\n",
       "      <td>1990-01-21</td>\n",
       "      <td>27.5</td>\n",
       "    </tr>\n",
       "  </tbody>\n",
       "</table>\n",
       "</div>"
      ],
      "text/plain": [
       "    season  episode  avg_rating  num_votes  episode_num_overall  \\\n",
       "13       2        1         8.2       2226                   14   \n",
       "8        1        9         7.5       2122                    9   \n",
       "10       1       11         7.8       2073                   11   \n",
       "11       1       12         8.4       2261                   12   \n",
       "9        1       10         7.5       2041                   10   \n",
       "14       2        2         8.3       2136                   15   \n",
       "68       4       10         8.6       1824                   69   \n",
       "7        1        8         7.7       2124                    8   \n",
       "6        1        7         7.9       2178                    7   \n",
       "2        1        3         7.5       2304                    3   \n",
       "\n",
       "                       title original_air_date  us_viewers  \n",
       "13           Bart Gets an \"F        1990-10-11        33.6  \n",
       "8      Life on the Fast Lane        1990-03-18        33.5  \n",
       "10       The Crepes of Wrath        1990-04-15        31.2  \n",
       "11        Krusty Gets Busted        1990-04-29        30.4  \n",
       "9          Homer's Night Out        1990-03-25        30.3  \n",
       "14       Simpson and Delilah        1990-10-18        29.9  \n",
       "68         Lisa's First Word        1992-12-03        28.6  \n",
       "7          The Telltale Head        1990-02-25        28.0  \n",
       "6   The Call of the Simpsons        1990-02-18        27.6  \n",
       "2            Homer's Odyssey        1990-01-21        27.5  "
      ]
     },
     "execution_count": 55,
     "metadata": {},
     "output_type": "execute_result"
    }
   ],
   "source": [
    "# Most Watched Episodes US Viewers\n",
    "final_simpsons_df.sort_values(['us_viewers'],ascending=False)[0:10]"
   ]
  },
  {
   "cell_type": "code",
   "execution_count": 56,
   "metadata": {},
   "outputs": [
    {
     "data": {
      "text/html": [
       "<div>\n",
       "<style scoped>\n",
       "    .dataframe tbody tr th:only-of-type {\n",
       "        vertical-align: middle;\n",
       "    }\n",
       "\n",
       "    .dataframe tbody tr th {\n",
       "        vertical-align: top;\n",
       "    }\n",
       "\n",
       "    .dataframe thead th {\n",
       "        text-align: right;\n",
       "    }\n",
       "</style>\n",
       "<table border=\"1\" class=\"dataframe\">\n",
       "  <thead>\n",
       "    <tr style=\"text-align: right;\">\n",
       "      <th></th>\n",
       "      <th>season</th>\n",
       "      <th>episode</th>\n",
       "      <th>avg_rating</th>\n",
       "      <th>num_votes</th>\n",
       "      <th>episode_num_overall</th>\n",
       "      <th>title</th>\n",
       "      <th>original_air_date</th>\n",
       "      <th>us_viewers</th>\n",
       "    </tr>\n",
       "  </thead>\n",
       "  <tbody>\n",
       "    <tr>\n",
       "      <th>631</th>\n",
       "      <td>29</td>\n",
       "      <td>14</td>\n",
       "      <td>6.1</td>\n",
       "      <td>278</td>\n",
       "      <td>632</td>\n",
       "      <td>Fears of a Clown</td>\n",
       "      <td>2018-04-01</td>\n",
       "      <td>2.06</td>\n",
       "    </tr>\n",
       "    <tr>\n",
       "      <th>629</th>\n",
       "      <td>29</td>\n",
       "      <td>12</td>\n",
       "      <td>6.6</td>\n",
       "      <td>342</td>\n",
       "      <td>630</td>\n",
       "      <td>Homer Is Where the Art Isn't</td>\n",
       "      <td>2018-03-18</td>\n",
       "      <td>2.07</td>\n",
       "    </tr>\n",
       "    <tr>\n",
       "      <th>638</th>\n",
       "      <td>29</td>\n",
       "      <td>21</td>\n",
       "      <td>7.9</td>\n",
       "      <td>363</td>\n",
       "      <td>639</td>\n",
       "      <td>Flanders' Ladder</td>\n",
       "      <td>2018-05-20</td>\n",
       "      <td>2.10</td>\n",
       "    </tr>\n",
       "    <tr>\n",
       "      <th>614</th>\n",
       "      <td>28</td>\n",
       "      <td>19</td>\n",
       "      <td>6.3</td>\n",
       "      <td>440</td>\n",
       "      <td>615</td>\n",
       "      <td>Caper Chase</td>\n",
       "      <td>2017-04-02</td>\n",
       "      <td>2.13</td>\n",
       "    </tr>\n",
       "    <tr>\n",
       "      <th>637</th>\n",
       "      <td>29</td>\n",
       "      <td>20</td>\n",
       "      <td>7.0</td>\n",
       "      <td>310</td>\n",
       "      <td>638</td>\n",
       "      <td>Throw Grampa from the Dane</td>\n",
       "      <td>2018-05-13</td>\n",
       "      <td>2.14</td>\n",
       "    </tr>\n",
       "    <tr>\n",
       "      <th>636</th>\n",
       "      <td>29</td>\n",
       "      <td>19</td>\n",
       "      <td>6.8</td>\n",
       "      <td>260</td>\n",
       "      <td>637</td>\n",
       "      <td>Left Behind</td>\n",
       "      <td>2018-05-06</td>\n",
       "      <td>2.15</td>\n",
       "    </tr>\n",
       "    <tr>\n",
       "      <th>632</th>\n",
       "      <td>29</td>\n",
       "      <td>15</td>\n",
       "      <td>6.6</td>\n",
       "      <td>289</td>\n",
       "      <td>633</td>\n",
       "      <td>No Good Read Goes Unpunished</td>\n",
       "      <td>2018-04-08</td>\n",
       "      <td>2.15</td>\n",
       "    </tr>\n",
       "    <tr>\n",
       "      <th>630</th>\n",
       "      <td>29</td>\n",
       "      <td>13</td>\n",
       "      <td>6.6</td>\n",
       "      <td>303</td>\n",
       "      <td>631</td>\n",
       "      <td>3 Scenes Plus a Tag from a Marriage</td>\n",
       "      <td>2018-03-25</td>\n",
       "      <td>2.15</td>\n",
       "    </tr>\n",
       "    <tr>\n",
       "      <th>617</th>\n",
       "      <td>28</td>\n",
       "      <td>22</td>\n",
       "      <td>6.6</td>\n",
       "      <td>378</td>\n",
       "      <td>618</td>\n",
       "      <td>Dogtown</td>\n",
       "      <td>2017-05-21</td>\n",
       "      <td>2.15</td>\n",
       "    </tr>\n",
       "    <tr>\n",
       "      <th>634</th>\n",
       "      <td>29</td>\n",
       "      <td>17</td>\n",
       "      <td>7.1</td>\n",
       "      <td>312</td>\n",
       "      <td>635</td>\n",
       "      <td>Lisa Gets the Blues</td>\n",
       "      <td>2018-04-22</td>\n",
       "      <td>2.19</td>\n",
       "    </tr>\n",
       "  </tbody>\n",
       "</table>\n",
       "</div>"
      ],
      "text/plain": [
       "     season  episode  avg_rating  num_votes  episode_num_overall  \\\n",
       "631      29       14         6.1        278                  632   \n",
       "629      29       12         6.6        342                  630   \n",
       "638      29       21         7.9        363                  639   \n",
       "614      28       19         6.3        440                  615   \n",
       "637      29       20         7.0        310                  638   \n",
       "636      29       19         6.8        260                  637   \n",
       "632      29       15         6.6        289                  633   \n",
       "630      29       13         6.6        303                  631   \n",
       "617      28       22         6.6        378                  618   \n",
       "634      29       17         7.1        312                  635   \n",
       "\n",
       "                                   title original_air_date  us_viewers  \n",
       "631                     Fears of a Clown        2018-04-01        2.06  \n",
       "629         Homer Is Where the Art Isn't        2018-03-18        2.07  \n",
       "638                     Flanders' Ladder        2018-05-20        2.10  \n",
       "614                          Caper Chase        2017-04-02        2.13  \n",
       "637           Throw Grampa from the Dane        2018-05-13        2.14  \n",
       "636                          Left Behind        2018-05-06        2.15  \n",
       "632         No Good Read Goes Unpunished        2018-04-08        2.15  \n",
       "630  3 Scenes Plus a Tag from a Marriage        2018-03-25        2.15  \n",
       "617                              Dogtown        2017-05-21        2.15  \n",
       "634                  Lisa Gets the Blues        2018-04-22        2.19  "
      ]
     },
     "execution_count": 56,
     "metadata": {},
     "output_type": "execute_result"
    }
   ],
   "source": [
    "# Least Watched Epsiodes US Viewers\n",
    "final_simpsons_df.sort_values(['us_viewers'],ascending=True)[0:10]"
   ]
  },
  {
   "cell_type": "code",
   "execution_count": 57,
   "metadata": {
    "scrolled": true
   },
   "outputs": [
    {
     "data": {
      "text/plain": [
       "season\n",
       "1     27.807692\n",
       "2     24.404545\n",
       "3     21.766667\n",
       "4     22.395455\n",
       "5     18.940909\n",
       "6     15.596000\n",
       "7     14.660000\n",
       "8     14.600000\n",
       "9     10.344000\n",
       "10     8.737391\n",
       "11     8.772273\n",
       "12    15.485714\n",
       "13    12.463636\n",
       "14    14.378182\n",
       "15    10.987273\n",
       "16    10.373333\n",
       "17     9.548636\n",
       "18     9.149545\n",
       "19     8.280500\n",
       "20     7.070476\n",
       "21     7.134783\n",
       "22     7.092273\n",
       "23     6.148182\n",
       "24     5.411818\n",
       "25     5.019091\n",
       "26     4.804545\n",
       "27     4.000455\n",
       "28     4.146364\n",
       "29     3.449048\n",
       "Name: us_viewers, dtype: float64"
      ]
     },
     "execution_count": 57,
     "metadata": {},
     "output_type": "execute_result"
    }
   ],
   "source": [
    "# average u.s. viewers by year\n",
    "final_simpsons_df.groupby(['season'])['us_viewers'].mean()"
   ]
  },
  {
   "cell_type": "code",
   "execution_count": 58,
   "metadata": {},
   "outputs": [
    {
     "data": {
      "text/plain": [
       "<function matplotlib.pyplot.show(*args, **kw)>"
      ]
     },
     "execution_count": 58,
     "metadata": {},
     "output_type": "execute_result"
    },
    {
     "data": {
      "image/png": "[encoded data removed]",
      "text/plain": [
       "<Figure size 648x432 with 1 Axes>"
      ]
     },
     "metadata": {},
     "output_type": "display_data"
    }
   ],
   "source": [
    "fig = plt.figure(figsize=(9,6))\n",
    "\n",
    "plt.plot(final_simpsons_df.groupby(['season'])['us_viewers'].mean(), linewidth=3)\n",
    "\n",
    "plt.ylabel('US Viewers in Millions')\n",
    "plt.xlabel('Season')\n",
    "plt.title('The Simpsons US Viewers Season Average')\n",
    "#plt.axis([1, 30, 3, 28])\n",
    "#plt.grid(True)\n",
    "\n",
    "plt.show"
   ]
  },
  {
   "attachments": {},
   "cell_type": "markdown",
   "metadata": {},
   "source": [
    "U.S. Viewership has the most dramatic decline. The shows first season averaged 27 million viewers per episode, fell to an average of 8.7 million in season 11, rebounded to 15.4 million in season 12 and ended last year with 3.4 million per episode.  Not surprising, the most watched episodes were primarily in season 1 and 2 – there are a few from season 4. The least watched episodes are in seasons 27, 28 and 29. Despite the decline the numbers are still good enough to make the top 50 shows according to Nielsen (2017-2018 TV Series Ratings).\n",
    "\n",
    "Trends in Viewership\n",
    "-\tThe first ten seasons are the most consistent with viewership per episode. Relatively few peaks or valleys. Note - Season two started with 33 million viewers and ended with 17 million, a steady downward trend over the course of the season.  \n",
    "-\tIn seasons 11-20 viewership is relatively flat meaning it was more consistent week to week. The lone exceptions are season 14 with two episodes over 20 million and season 16 with one episode over 20 million (double the average for that season)\n",
    "-\tIn the last 10 seasons the most watched episodes were in January. As a comparison of seasons, the Spring episodes are more closely aligned to the average – more consistent week to week compared to the Fall where they are more erratic above or below the average. "
   ]
  },
  {
   "cell_type": "markdown",
   "metadata": {},
   "source": [
    "# Step 4 \n",
    "## export file for further analysis in Tableau"
   ]
  },
  {
   "cell_type": "code",
   "execution_count": 59,
   "metadata": {},
   "outputs": [],
   "source": [
    "final_simpsons_df.to_csv('simpsons_df.csv')"
   ]
  },
  {
   "cell_type": "code",
   "execution_count": null,
   "metadata": {},
   "outputs": [],
   "source": []
  }
 ],
 "metadata": {
  "kernelspec": {
   "display_name": "Python 3",
   "language": "python",
   "name": "python3"
  },
  "language_info": {
   "codemirror_mode": {
    "name": "ipython",
    "version": 3
   },
   "file_extension": ".py",
   "mimetype": "text/x-python",
   "name": "python",
   "nbconvert_exporter": "python",
   "pygments_lexer": "ipython3",
   "version": "3.6.5"
  }
 },
 "nbformat": 4,
 "nbformat_minor": 2
}
